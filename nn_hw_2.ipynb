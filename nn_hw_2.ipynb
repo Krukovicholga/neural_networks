{
 "cells": [
  {
   "cell_type": "code",
   "execution_count": 174,
   "metadata": {},
   "outputs": [],
   "source": [
    "import tensorflow as tf\n",
    "import keras\n",
    "from keras.datasets import fashion_mnist\n",
    "import matplotlib.pyplot as plt"
   ]
  },
  {
   "cell_type": "code",
   "execution_count": 175,
   "metadata": {},
   "outputs": [],
   "source": [
    "import numpy as np\n",
    "#import mnist\n",
    "from keras.models import Sequential\n",
    "from keras.layers import Dense\n",
    "from keras.utils import to_categorical\n",
    "from keras.datasets import mnist"
   ]
  },
  {
   "cell_type": "code",
   "execution_count": 176,
   "metadata": {},
   "outputs": [],
   "source": [
    "from keras.utils import plot_model"
   ]
  },
  {
   "cell_type": "code",
   "execution_count": 177,
   "metadata": {},
   "outputs": [],
   "source": [
    "from keras.utils import to_categorical"
   ]
  },
  {
   "cell_type": "code",
   "execution_count": 178,
   "metadata": {},
   "outputs": [],
   "source": [
    "import pandas as pd"
   ]
  },
  {
   "cell_type": "code",
   "execution_count": 249,
   "metadata": {},
   "outputs": [],
   "source": [
    "from sklearn.metrics import confusion_matrix\n",
    "import itertools"
   ]
  },
  {
   "cell_type": "code",
   "execution_count": 179,
   "metadata": {},
   "outputs": [],
   "source": [
    "(train_images,train_labels),(test_images,test_labels)=fashion_mnist.load_data()"
   ]
  },
  {
   "cell_type": "code",
   "execution_count": 180,
   "metadata": {},
   "outputs": [
    {
     "data": {
      "image/png": "[encoded data removed]",
      "text/plain": [
       "<Figure size 432x288 with 1 Axes>"
      ]
     },
     "metadata": {
      "needs_background": "light"
     },
     "output_type": "display_data"
    }
   ],
   "source": [
    "plt.imshow(train_images[2,:,:])\n",
    "plt.show()"
   ]
  },
  {
   "cell_type": "code",
   "execution_count": 181,
   "metadata": {},
   "outputs": [
    {
     "name": "stdout",
     "output_type": "stream",
     "text": [
      "(60000, 28, 28)\n",
      "(10000, 28, 28)\n"
     ]
    }
   ],
   "source": [
    "print(train_images.shape) # (60000, 28, 28)\n",
    "print(test_images.shape)  # (10000, 28, 28)"
   ]
  },
  {
   "cell_type": "code",
   "execution_count": 182,
   "metadata": {},
   "outputs": [
    {
     "name": "stdout",
     "output_type": "stream",
     "text": [
      "(60000, 784)\n",
      "(10000, 784)\n"
     ]
    }
   ],
   "source": [
    "# Normalize the images.\n",
    "train_images = (train_images / 127) - 1\n",
    "test_images = (test_images / 127) - 1\n",
    "\n",
    "# Flatten the images.\n",
    "train_images = train_images.reshape((-1, 784))\n",
    "test_images = test_images.reshape((-1, 784))\n",
    "\n",
    "print(train_images.shape) # (60000, 784)\n",
    "print(test_images.shape)  # (10000, 784)"
   ]
  },
  {
   "cell_type": "code",
   "execution_count": 183,
   "metadata": {},
   "outputs": [
    {
     "data": {
      "text/plain": [
       "(-1.0, 1.0078740157480315)"
      ]
     },
     "execution_count": 183,
     "metadata": {},
     "output_type": "execute_result"
    }
   ],
   "source": [
    "train_images.min(), train_images.max()"
   ]
  },
  {
   "cell_type": "code",
   "execution_count": 184,
   "metadata": {},
   "outputs": [
    {
     "data": {
      "text/plain": [
       "(-1.0, 1.0078740157480315)"
      ]
     },
     "execution_count": 184,
     "metadata": {},
     "output_type": "execute_result"
    }
   ],
   "source": [
    "test_images.min(), test_images.max()"
   ]
  },
  {
   "cell_type": "markdown",
   "metadata": {},
   "source": [
    "## 1. Опишите - какой результат получен в нейросети в зависимости от:\n",
    "\n",
    "        a. числа нейронов в слое(для 2-хслойной сети)"
   ]
  },
  {
   "cell_type": "code",
   "execution_count": 185,
   "metadata": {},
   "outputs": [],
   "source": [
    "df = pd.DataFrame(columns=['no. neurons', 'train accuracy', 'val_accuracy'])"
   ]
  },
  {
   "cell_type": "code",
   "execution_count": 186,
   "metadata": {},
   "outputs": [
    {
     "name": "stdout",
     "output_type": "stream",
     "text": [
      "Epoch 1/5\n",
      "1500/1500 [==============================] - 5s 3ms/step - loss: 2.0796 - accuracy: 0.1830 - val_loss: 1.9244 - val_accuracy: 0.2017\n",
      "Epoch 2/5\n",
      "1500/1500 [==============================] - 2s 2ms/step - loss: 1.9170 - accuracy: 0.2045 - val_loss: 1.9150 - val_accuracy: 0.2025\n",
      "Epoch 3/5\n",
      "1500/1500 [==============================] - 2s 2ms/step - loss: 1.8819 - accuracy: 0.2139 - val_loss: 1.8622 - val_accuracy: 0.2237\n",
      "Epoch 4/5\n",
      "1500/1500 [==============================] - 2s 2ms/step - loss: 1.8569 - accuracy: 0.2292 - val_loss: 1.8497 - val_accuracy: 0.2356\n",
      "Epoch 5/5\n",
      "1500/1500 [==============================] - 2s 2ms/step - loss: 1.8389 - accuracy: 0.2282 - val_loss: 1.8167 - val_accuracy: 0.2298\n",
      "Epoch 1/5\n",
      "1500/1500 [==============================] - 6s 2ms/step - loss: 0.6952 - accuracy: 0.7614 - val_loss: 0.4709 - val_accuracy: 0.8270\n",
      "Epoch 2/5\n",
      "1500/1500 [==============================] - 3s 2ms/step - loss: 0.4146 - accuracy: 0.8531 - val_loss: 0.4056 - val_accuracy: 0.8528\n",
      "Epoch 3/5\n",
      "1500/1500 [==============================] - 3s 2ms/step - loss: 0.3737 - accuracy: 0.8638 - val_loss: 0.3831 - val_accuracy: 0.8622\n",
      "Epoch 4/5\n",
      "1500/1500 [==============================] - 3s 2ms/step - loss: 0.3525 - accuracy: 0.8732 - val_loss: 0.3816 - val_accuracy: 0.8638\n",
      "Epoch 5/5\n",
      "1500/1500 [==============================] - 3s 2ms/step - loss: 0.3402 - accuracy: 0.8777 - val_loss: 0.3827 - val_accuracy: 0.8630\n",
      "Epoch 1/5\n",
      "1500/1500 [==============================] - 4s 3ms/step - loss: 0.6216 - accuracy: 0.7812 - val_loss: 0.4274 - val_accuracy: 0.8456\n",
      "Epoch 2/5\n",
      "1500/1500 [==============================] - 4s 2ms/step - loss: 0.3941 - accuracy: 0.8609 - val_loss: 0.3890 - val_accuracy: 0.8600\n",
      "Epoch 3/5\n",
      "1500/1500 [==============================] - 4s 2ms/step - loss: 0.3586 - accuracy: 0.8706 - val_loss: 0.3768 - val_accuracy: 0.8661\n",
      "Epoch 4/5\n",
      "1500/1500 [==============================] - 4s 2ms/step - loss: 0.3427 - accuracy: 0.8777 - val_loss: 0.3672 - val_accuracy: 0.8668\n",
      "Epoch 5/5\n",
      "1500/1500 [==============================] - 4s 2ms/step - loss: 0.3304 - accuracy: 0.8796 - val_loss: 0.3603 - val_accuracy: 0.8701\n",
      "Epoch 1/5\n",
      "1500/1500 [==============================] - 5s 3ms/step - loss: 0.6144 - accuracy: 0.7810 - val_loss: 0.4182 - val_accuracy: 0.8520\n",
      "Epoch 2/5\n",
      "1500/1500 [==============================] - 4s 3ms/step - loss: 0.3952 - accuracy: 0.8575 - val_loss: 0.3945 - val_accuracy: 0.8562\n",
      "Epoch 3/5\n",
      "1500/1500 [==============================] - 4s 3ms/step - loss: 0.3558 - accuracy: 0.8704 - val_loss: 0.3829 - val_accuracy: 0.8585\n",
      "Epoch 4/5\n",
      "1500/1500 [==============================] - 4s 3ms/step - loss: 0.3343 - accuracy: 0.8787 - val_loss: 0.3878 - val_accuracy: 0.8636\n",
      "Epoch 5/5\n",
      "1500/1500 [==============================] - 4s 3ms/step - loss: 0.3258 - accuracy: 0.8813 - val_loss: 0.3533 - val_accuracy: 0.8746\n",
      "Epoch 1/5\n",
      "1500/1500 [==============================] - 5s 3ms/step - loss: 0.6065 - accuracy: 0.7825 - val_loss: 0.4164 - val_accuracy: 0.8508\n",
      "Epoch 2/5\n",
      "1500/1500 [==============================] - 4s 3ms/step - loss: 0.3973 - accuracy: 0.8564 - val_loss: 0.3827 - val_accuracy: 0.8611\n",
      "Epoch 3/5\n",
      "1500/1500 [==============================] - 4s 3ms/step - loss: 0.3616 - accuracy: 0.8695 - val_loss: 0.4099 - val_accuracy: 0.8538\n",
      "Epoch 4/5\n",
      "1500/1500 [==============================] - 5s 3ms/step - loss: 0.3386 - accuracy: 0.8763 - val_loss: 0.3692 - val_accuracy: 0.8673\n",
      "Epoch 5/5\n",
      "1500/1500 [==============================] - 4s 3ms/step - loss: 0.3255 - accuracy: 0.8808 - val_loss: 0.3696 - val_accuracy: 0.8675\n",
      "Epoch 1/5\n",
      "1500/1500 [==============================] - 7s 4ms/step - loss: 0.6093 - accuracy: 0.7781 - val_loss: 0.4307 - val_accuracy: 0.8447\n",
      "Epoch 2/5\n",
      "1500/1500 [==============================] - 5s 3ms/step - loss: 0.3909 - accuracy: 0.8562 - val_loss: 0.3978 - val_accuracy: 0.8578\n",
      "Epoch 3/5\n",
      "1500/1500 [==============================] - 5s 3ms/step - loss: 0.3586 - accuracy: 0.8663 - val_loss: 0.3859 - val_accuracy: 0.8612\n",
      "Epoch 4/5\n",
      "1500/1500 [==============================] - 5s 3ms/step - loss: 0.3438 - accuracy: 0.8738 - val_loss: 0.3788 - val_accuracy: 0.8633\n",
      "Epoch 5/5\n",
      "1500/1500 [==============================] - 5s 4ms/step - loss: 0.3220 - accuracy: 0.8804 - val_loss: 0.3863 - val_accuracy: 0.8610\n",
      "Epoch 1/5\n",
      "1500/1500 [==============================] - 6s 4ms/step - loss: 0.5866 - accuracy: 0.7884 - val_loss: 0.4139 - val_accuracy: 0.8495\n",
      "Epoch 2/5\n",
      "1500/1500 [==============================] - 5s 4ms/step - loss: 0.3944 - accuracy: 0.8539 - val_loss: 0.3971 - val_accuracy: 0.8538\n",
      "Epoch 3/5\n",
      "1500/1500 [==============================] - 6s 4ms/step - loss: 0.3579 - accuracy: 0.8705 - val_loss: 0.3800 - val_accuracy: 0.8627\n",
      "Epoch 4/5\n",
      "1500/1500 [==============================] - 5s 3ms/step - loss: 0.3326 - accuracy: 0.8784 - val_loss: 0.3541 - val_accuracy: 0.8742\n",
      "Epoch 5/5\n",
      "1500/1500 [==============================] - 5s 3ms/step - loss: 0.3224 - accuracy: 0.8806 - val_loss: 0.3803 - val_accuracy: 0.8607\n",
      "Epoch 1/5\n",
      "1500/1500 [==============================] - 6s 4ms/step - loss: 0.5925 - accuracy: 0.7900 - val_loss: 0.4377 - val_accuracy: 0.8428\n",
      "Epoch 2/5\n",
      "1500/1500 [==============================] - 6s 4ms/step - loss: 0.3949 - accuracy: 0.8578 - val_loss: 0.3946 - val_accuracy: 0.8562\n",
      "Epoch 3/5\n",
      "1500/1500 [==============================] - 6s 4ms/step - loss: 0.3557 - accuracy: 0.8694 - val_loss: 0.3641 - val_accuracy: 0.8707\n",
      "Epoch 4/5\n",
      "1500/1500 [==============================] - 6s 4ms/step - loss: 0.3399 - accuracy: 0.8760 - val_loss: 0.3885 - val_accuracy: 0.8621\n",
      "Epoch 5/5\n",
      "1500/1500 [==============================] - 6s 4ms/step - loss: 0.3281 - accuracy: 0.8794 - val_loss: 0.3811 - val_accuracy: 0.8637\n",
      "Epoch 1/5\n",
      "1500/1500 [==============================] - 7s 4ms/step - loss: 0.6088 - accuracy: 0.7817 - val_loss: 0.4214 - val_accuracy: 0.8463\n",
      "Epoch 2/5\n",
      "1500/1500 [==============================] - 6s 4ms/step - loss: 0.3877 - accuracy: 0.8590 - val_loss: 0.3681 - val_accuracy: 0.8662\n",
      "Epoch 3/5\n",
      "1500/1500 [==============================] - 7s 4ms/step - loss: 0.3584 - accuracy: 0.8683 - val_loss: 0.3659 - val_accuracy: 0.8667\n",
      "Epoch 4/5\n",
      "1500/1500 [==============================] - 6s 4ms/step - loss: 0.3429 - accuracy: 0.8767 - val_loss: 0.3721 - val_accuracy: 0.8641\n",
      "Epoch 5/5\n",
      "1500/1500 [==============================] - 6s 4ms/step - loss: 0.3238 - accuracy: 0.8802 - val_loss: 0.3749 - val_accuracy: 0.8651\n",
      "Epoch 1/5\n",
      "1500/1500 [==============================] - 8s 5ms/step - loss: 0.6016 - accuracy: 0.7856 - val_loss: 0.4375 - val_accuracy: 0.8447\n",
      "Epoch 2/5\n",
      "1500/1500 [==============================] - 7s 5ms/step - loss: 0.3916 - accuracy: 0.8549 - val_loss: 0.4116 - val_accuracy: 0.8482\n",
      "Epoch 3/5\n",
      "1500/1500 [==============================] - 8s 5ms/step - loss: 0.3656 - accuracy: 0.8666 - val_loss: 0.4094 - val_accuracy: 0.8516\n",
      "Epoch 4/5\n",
      "1500/1500 [==============================] - 8s 5ms/step - loss: 0.3441 - accuracy: 0.8759 - val_loss: 0.3985 - val_accuracy: 0.8594\n",
      "Epoch 5/5\n",
      "1500/1500 [==============================] - 7s 5ms/step - loss: 0.3339 - accuracy: 0.8759 - val_loss: 0.3645 - val_accuracy: 0.8680\n",
      "Epoch 1/5\n",
      "1500/1500 [==============================] - 10s 6ms/step - loss: 0.6062 - accuracy: 0.7819 - val_loss: 0.4265 - val_accuracy: 0.8476\n",
      "Epoch 2/5\n",
      "1500/1500 [==============================] - 8s 5ms/step - loss: 0.3940 - accuracy: 0.8562 - val_loss: 0.3780 - val_accuracy: 0.8633\n",
      "Epoch 3/5\n",
      "1500/1500 [==============================] - 8s 5ms/step - loss: 0.3638 - accuracy: 0.8656 - val_loss: 0.3721 - val_accuracy: 0.8675\n",
      "Epoch 4/5\n",
      "1500/1500 [==============================] - 8s 5ms/step - loss: 0.3433 - accuracy: 0.8734 - val_loss: 0.3785 - val_accuracy: 0.8651\n",
      "Epoch 5/5\n",
      "1500/1500 [==============================] - 9s 6ms/step - loss: 0.3272 - accuracy: 0.8809 - val_loss: 0.3540 - val_accuracy: 0.8733\n",
      "Epoch 1/5\n",
      "1500/1500 [==============================] - 10s 6ms/step - loss: 0.5880 - accuracy: 0.7868 - val_loss: 0.4632 - val_accuracy: 0.8301\n",
      "Epoch 2/5\n",
      "1500/1500 [==============================] - 9s 6ms/step - loss: 0.4040 - accuracy: 0.8508 - val_loss: 0.3794 - val_accuracy: 0.8571\n",
      "Epoch 3/5\n",
      "1500/1500 [==============================] - 9s 6ms/step - loss: 0.3589 - accuracy: 0.8657 - val_loss: 0.3932 - val_accuracy: 0.8586\n",
      "Epoch 4/5\n",
      "1500/1500 [==============================] - 9s 6ms/step - loss: 0.3498 - accuracy: 0.8690 - val_loss: 0.3863 - val_accuracy: 0.8637\n",
      "Epoch 5/5\n",
      "1500/1500 [==============================] - 8s 6ms/step - loss: 0.3377 - accuracy: 0.8763 - val_loss: 0.3817 - val_accuracy: 0.8631\n",
      "Epoch 1/5\n",
      "1500/1500 [==============================] - 11s 7ms/step - loss: 0.6043 - accuracy: 0.7880 - val_loss: 0.4339 - val_accuracy: 0.8378\n",
      "Epoch 2/5\n",
      "1500/1500 [==============================] - 9s 6ms/step - loss: 0.4016 - accuracy: 0.8517 - val_loss: 0.4411 - val_accuracy: 0.8441\n",
      "Epoch 3/5\n",
      "1500/1500 [==============================] - 9s 6ms/step - loss: 0.3797 - accuracy: 0.8616 - val_loss: 0.3755 - val_accuracy: 0.8661\n",
      "Epoch 4/5\n",
      "1500/1500 [==============================] - 10s 6ms/step - loss: 0.3447 - accuracy: 0.8731 - val_loss: 0.3707 - val_accuracy: 0.8686\n",
      "Epoch 5/5\n",
      "1500/1500 [==============================] - 9s 6ms/step - loss: 0.3310 - accuracy: 0.8789 - val_loss: 0.3669 - val_accuracy: 0.8676\n"
     ]
    }
   ],
   "source": [
    "\n",
    "for n_neurons in range(1,500,40):\n",
    "# Build the model.\n",
    "    model = Sequential([\n",
    "    Dense(n_neurons, activation='tanh', input_shape=(784,)),\n",
    "    Dense(10, activation='softmax'),# выходной слой из 10 нейронов (сколько классов, столько нейронов) + активация softmax\n",
    "    ])\n",
    "\n",
    "# Compile the model.\n",
    "    model.compile(\n",
    "    optimizer='adam',\n",
    "    loss='categorical_crossentropy',\n",
    "    metrics=['accuracy'],\n",
    "    )\n",
    "\n",
    "    y_t = to_categorical(train_labels)\n",
    "    y_tt = to_categorical(test_labels)\n",
    "\n",
    "    # Train the model.\n",
    "    history= model.fit(  \n",
    "      train_images[:,:],\n",
    "      y_t[:,:],\n",
    "      epochs=5,\n",
    "      batch_size=32, validation_split=0.2\n",
    "      )\n",
    "    \n",
    "    train_acc = history.history['accuracy'][-1]\n",
    "    val_acc = history.history['val_accuracy'][-1]\n",
    "\n",
    "    \n",
    "    df = df.append({'no. neurons': n_neurons, 'train accuracy': train_acc, 'val_accuracy': val_acc}, ignore_index=True)"
   ]
  },
  {
   "cell_type": "code",
   "execution_count": 187,
   "metadata": {},
   "outputs": [
    {
     "data": {
      "text/html": [
       "<div>\n",
       "<style scoped>\n",
       "    .dataframe tbody tr th:only-of-type {\n",
       "        vertical-align: middle;\n",
       "    }\n",
       "\n",
       "    .dataframe tbody tr th {\n",
       "        vertical-align: top;\n",
       "    }\n",
       "\n",
       "    .dataframe thead th {\n",
       "        text-align: right;\n",
       "    }\n",
       "</style>\n",
       "<table border=\"1\" class=\"dataframe\">\n",
       "  <thead>\n",
       "    <tr style=\"text-align: right;\">\n",
       "      <th></th>\n",
       "      <th>no. neurons</th>\n",
       "      <th>train accuracy</th>\n",
       "      <th>val_accuracy</th>\n",
       "    </tr>\n",
       "  </thead>\n",
       "  <tbody>\n",
       "    <tr>\n",
       "      <th>0</th>\n",
       "      <td>1.0</td>\n",
       "      <td>0.229667</td>\n",
       "      <td>0.229750</td>\n",
       "    </tr>\n",
       "    <tr>\n",
       "      <th>1</th>\n",
       "      <td>41.0</td>\n",
       "      <td>0.877167</td>\n",
       "      <td>0.863000</td>\n",
       "    </tr>\n",
       "    <tr>\n",
       "      <th>2</th>\n",
       "      <td>81.0</td>\n",
       "      <td>0.878875</td>\n",
       "      <td>0.870083</td>\n",
       "    </tr>\n",
       "    <tr>\n",
       "      <th>3</th>\n",
       "      <td>121.0</td>\n",
       "      <td>0.879792</td>\n",
       "      <td>0.874583</td>\n",
       "    </tr>\n",
       "    <tr>\n",
       "      <th>4</th>\n",
       "      <td>161.0</td>\n",
       "      <td>0.880250</td>\n",
       "      <td>0.867500</td>\n",
       "    </tr>\n",
       "    <tr>\n",
       "      <th>5</th>\n",
       "      <td>201.0</td>\n",
       "      <td>0.879687</td>\n",
       "      <td>0.861000</td>\n",
       "    </tr>\n",
       "    <tr>\n",
       "      <th>6</th>\n",
       "      <td>241.0</td>\n",
       "      <td>0.880854</td>\n",
       "      <td>0.860667</td>\n",
       "    </tr>\n",
       "    <tr>\n",
       "      <th>7</th>\n",
       "      <td>281.0</td>\n",
       "      <td>0.880125</td>\n",
       "      <td>0.863750</td>\n",
       "    </tr>\n",
       "    <tr>\n",
       "      <th>8</th>\n",
       "      <td>321.0</td>\n",
       "      <td>0.879438</td>\n",
       "      <td>0.865083</td>\n",
       "    </tr>\n",
       "    <tr>\n",
       "      <th>9</th>\n",
       "      <td>361.0</td>\n",
       "      <td>0.877292</td>\n",
       "      <td>0.868000</td>\n",
       "    </tr>\n",
       "    <tr>\n",
       "      <th>10</th>\n",
       "      <td>401.0</td>\n",
       "      <td>0.878250</td>\n",
       "      <td>0.873250</td>\n",
       "    </tr>\n",
       "    <tr>\n",
       "      <th>11</th>\n",
       "      <td>441.0</td>\n",
       "      <td>0.875354</td>\n",
       "      <td>0.863083</td>\n",
       "    </tr>\n",
       "    <tr>\n",
       "      <th>12</th>\n",
       "      <td>481.0</td>\n",
       "      <td>0.876729</td>\n",
       "      <td>0.867583</td>\n",
       "    </tr>\n",
       "  </tbody>\n",
       "</table>\n",
       "</div>"
      ],
      "text/plain": [
       "    no. neurons  train accuracy  val_accuracy\n",
       "0           1.0        0.229667      0.229750\n",
       "1          41.0        0.877167      0.863000\n",
       "2          81.0        0.878875      0.870083\n",
       "3         121.0        0.879792      0.874583\n",
       "4         161.0        0.880250      0.867500\n",
       "5         201.0        0.879687      0.861000\n",
       "6         241.0        0.880854      0.860667\n",
       "7         281.0        0.880125      0.863750\n",
       "8         321.0        0.879438      0.865083\n",
       "9         361.0        0.877292      0.868000\n",
       "10        401.0        0.878250      0.873250\n",
       "11        441.0        0.875354      0.863083\n",
       "12        481.0        0.876729      0.867583"
      ]
     },
     "execution_count": 187,
     "metadata": {},
     "output_type": "execute_result"
    }
   ],
   "source": [
    "df"
   ]
  },
  {
   "cell_type": "code",
   "execution_count": 188,
   "metadata": {},
   "outputs": [
    {
     "data": {
      "image/png": "[encoded data removed]",
      "text/plain": [
       "<Figure size 1080x504 with 1 Axes>"
      ]
     },
     "metadata": {
      "needs_background": "light"
     },
     "output_type": "display_data"
    }
   ],
   "source": [
    "plt.figure(figsize=(15,7))\n",
    "plt.plot(df['train accuracy'], df['no. neurons'], label='train')\n",
    "plt.plot(df['val_accuracy'], df['no. neurons'], label='val')\n",
    "plt.title('Зависимость accuracy от кол-ва нейронов')\n",
    "plt.xlabel('accuracy')\n",
    "plt.ylabel('кол-во эпох')\n",
    "plt.grid('On')\n",
    "plt.legend();"
   ]
  },
  {
   "cell_type": "markdown",
   "metadata": {},
   "source": [
    "**Вывод:\n",
    "    При увеличении количества нейронов показатель accuracy растет. \n",
    "    После кол-ва нейронов 161 показатель accuracy немного падает. Недостатоно данных для такого количства нейронов.**"
   ]
  },
  {
   "cell_type": "markdown",
   "metadata": {},
   "source": [
    "Посмотрим из чего она состоит:"
   ]
  },
  {
   "cell_type": "code",
   "execution_count": 189,
   "metadata": {
    "scrolled": true
   },
   "outputs": [
    {
     "name": "stdout",
     "output_type": "stream",
     "text": [
      "Model: \"sequential_93\"\n",
      "_________________________________________________________________\n",
      "Layer (type)                 Output Shape              Param #   \n",
      "=================================================================\n",
      "dense_188 (Dense)            (None, 481)               377585    \n",
      "_________________________________________________________________\n",
      "dense_189 (Dense)            (None, 10)                4820      \n",
      "=================================================================\n",
      "Total params: 382,405\n",
      "Trainable params: 382,405\n",
      "Non-trainable params: 0\n",
      "_________________________________________________________________\n"
     ]
    }
   ],
   "source": [
    "model.summary()"
   ]
  },
  {
   "cell_type": "markdown",
   "metadata": {},
   "source": [
    "Выводим картинку со схемой модели"
   ]
  },
  {
   "cell_type": "code",
   "execution_count": 190,
   "metadata": {},
   "outputs": [
    {
     "name": "stdout",
     "output_type": "stream",
     "text": [
      "WARNING:tensorflow:6 out of the last 13 calls to <function Model.make_predict_function.<locals>.predict_function at 0x000001F0BA2E6DC0> triggered tf.function retracing. Tracing is expensive and the excessive number of tracings could be due to (1) creating @tf.function repeatedly in a loop, (2) passing tensors with different shapes, (3) passing Python objects instead of tensors. For (1), please define your @tf.function outside of the loop. For (2), @tf.function has experimental_relax_shapes=True option that relaxes argument shapes that can avoid unnecessary retracing. For (3), please refer to https://www.tensorflow.org/guide/function#controlling_retracing and https://www.tensorflow.org/api_docs/python/tf/function for  more details.\n"
     ]
    },
    {
     "data": {
      "image/png": "[encoded data removed]",
      "text/plain": [
       "<Figure size 1080x360 with 5 Axes>"
      ]
     },
     "metadata": {
      "needs_background": "light"
     },
     "output_type": "display_data"
    }
   ],
   "source": [
    "N = 5\n",
    "y_pred = model.predict(test_images[:N,:])\n",
    "y_pred_class = np.argmax(y_pred,axis=1)\n",
    "plt.figure(figsize =(3*N,5))\n",
    "for i in range(N):\n",
    "  plt.subplot(1,N,i+1)\n",
    "  plt.imshow(test_images[i,:].reshape(28,28))\n",
    "  plt.xlabel(str(y_pred_class[i]))\n",
    "plt.show()  "
   ]
  },
  {
   "cell_type": "code",
   "execution_count": 191,
   "metadata": {},
   "outputs": [
    {
     "data": {
      "text/plain": [
       "array([9, 2, 1, 1, 6], dtype=int64)"
      ]
     },
     "execution_count": 191,
     "metadata": {},
     "output_type": "execute_result"
    }
   ],
   "source": [
    "y_pred_class"
   ]
  },
  {
   "cell_type": "markdown",
   "metadata": {},
   "source": [
    "## б. числа слоев (2, 3, 5, 10) при близких размерах сети (близкое число тренируемых парметров)."
   ]
  },
  {
   "cell_type": "code",
   "execution_count": 221,
   "metadata": {},
   "outputs": [],
   "source": [
    "df_1b = pd.DataFrame(columns=['no. layers', 'no. neurons', 'train accuracy', 'val_accuracy'])"
   ]
  },
  {
   "cell_type": "markdown",
   "metadata": {},
   "source": [
    "**2-x слойная модель, число нейронов: 64, 128, 192**"
   ]
  },
  {
   "cell_type": "code",
   "execution_count": 222,
   "metadata": {},
   "outputs": [
    {
     "name": "stdout",
     "output_type": "stream",
     "text": [
      "Epoch 1/5\n",
      "1500/1500 [==============================] - 4s 2ms/step - loss: 0.6275 - accuracy: 0.7804 - val_loss: 0.4221 - val_accuracy: 0.8469\n",
      "Epoch 2/5\n",
      "1500/1500 [==============================] - 3s 2ms/step - loss: 0.4062 - accuracy: 0.8528 - val_loss: 0.3928 - val_accuracy: 0.8593\n",
      "Epoch 3/5\n",
      "1500/1500 [==============================] - 3s 2ms/step - loss: 0.3687 - accuracy: 0.8680 - val_loss: 0.3813 - val_accuracy: 0.8608\n",
      "Epoch 4/5\n",
      "1500/1500 [==============================] - 3s 2ms/step - loss: 0.3442 - accuracy: 0.8755 - val_loss: 0.3747 - val_accuracy: 0.8672\n",
      "Epoch 5/5\n",
      "1500/1500 [==============================] - 3s 2ms/step - loss: 0.3291 - accuracy: 0.8812 - val_loss: 0.3662 - val_accuracy: 0.8679\n",
      "Epoch 1/5\n",
      "1500/1500 [==============================] - 5s 3ms/step - loss: 0.6002 - accuracy: 0.7862 - val_loss: 0.4296 - val_accuracy: 0.8464\n",
      "Epoch 2/5\n",
      "1500/1500 [==============================] - 4s 3ms/step - loss: 0.3980 - accuracy: 0.8547 - val_loss: 0.3876 - val_accuracy: 0.8627\n",
      "Epoch 3/5\n",
      "1500/1500 [==============================] - 4s 3ms/step - loss: 0.3635 - accuracy: 0.8691 - val_loss: 0.3800 - val_accuracy: 0.8618\n",
      "Epoch 4/5\n",
      "1500/1500 [==============================] - 4s 3ms/step - loss: 0.3418 - accuracy: 0.8743 - val_loss: 0.3751 - val_accuracy: 0.8653\n",
      "Epoch 5/5\n",
      "1500/1500 [==============================] - 4s 3ms/step - loss: 0.3190 - accuracy: 0.8843 - val_loss: 0.3596 - val_accuracy: 0.8723\n",
      "Epoch 1/5\n",
      "1500/1500 [==============================] - 6s 3ms/step - loss: 0.5904 - accuracy: 0.7888 - val_loss: 0.4076 - val_accuracy: 0.8548\n",
      "Epoch 2/5\n",
      "1500/1500 [==============================] - 4s 3ms/step - loss: 0.3918 - accuracy: 0.8545 - val_loss: 0.3928 - val_accuracy: 0.8547\n",
      "Epoch 3/5\n",
      "1500/1500 [==============================] - 5s 3ms/step - loss: 0.3581 - accuracy: 0.8708 - val_loss: 0.3789 - val_accuracy: 0.8619\n",
      "Epoch 4/5\n",
      "1500/1500 [==============================] - 5s 3ms/step - loss: 0.3374 - accuracy: 0.8734 - val_loss: 0.3654 - val_accuracy: 0.8687\n",
      "Epoch 5/5\n",
      "1500/1500 [==============================] - 5s 3ms/step - loss: 0.3179 - accuracy: 0.8839 - val_loss: 0.3499 - val_accuracy: 0.8738\n"
     ]
    }
   ],
   "source": [
    "for n_neurons in range(64, 193, 64):\n",
    "# Build the model.\n",
    "    model = Sequential([\n",
    "    Dense(n_neurons, activation='tanh', input_shape=(784,)),\n",
    "    Dense(10, activation='softmax'),# выходной слой из 10 нейронов (сколько классов, столько нейронов) + активация softmax\n",
    "    ])\n",
    "    \n",
    "    no_layers = 2\n",
    "\n",
    "# Compile the model.\n",
    "    model.compile(\n",
    "    optimizer='adam',\n",
    "    loss='categorical_crossentropy',\n",
    "    metrics=['accuracy'],\n",
    "    )\n",
    "\n",
    "    y_t = to_categorical(train_labels)\n",
    "    y_tt = to_categorical(test_labels)\n",
    "\n",
    "    # Train the model.\n",
    "    history= model.fit(  \n",
    "      train_images[:,:],\n",
    "      y_t[:,:],\n",
    "      epochs=5,\n",
    "      batch_size=32, validation_split=0.2\n",
    "      )\n",
    "    \n",
    "    train_acc_1b = history.history['accuracy'][-1]\n",
    "    val_acc_1b = history.history['val_accuracy'][-1]\n",
    "\n",
    "    \n",
    "    df_1b = df_1b.append({'no. layers': no_layers, 'no. neurons': n_neurons, 'train accuracy': train_acc_1b, 'val_accuracy': val_acc_1b}, ignore_index=True)\n",
    "    "
   ]
  },
  {
   "cell_type": "markdown",
   "metadata": {},
   "source": [
    "**3-x слойная модель, число нейронов: 64, 128, 192**"
   ]
  },
  {
   "cell_type": "code",
   "execution_count": 224,
   "metadata": {},
   "outputs": [
    {
     "name": "stdout",
     "output_type": "stream",
     "text": [
      "Epoch 1/5\n",
      "1500/1500 [==============================] - 5s 3ms/step - loss: 0.6486 - accuracy: 0.7761 - val_loss: 0.4164 - val_accuracy: 0.8493\n",
      "Epoch 2/5\n",
      "1500/1500 [==============================] - 4s 2ms/step - loss: 0.4079 - accuracy: 0.8516 - val_loss: 0.3980 - val_accuracy: 0.8545\n",
      "Epoch 3/5\n",
      "1500/1500 [==============================] - 4s 2ms/step - loss: 0.3632 - accuracy: 0.8671 - val_loss: 0.3762 - val_accuracy: 0.8637\n",
      "Epoch 4/5\n",
      "1500/1500 [==============================] - 3s 2ms/step - loss: 0.3435 - accuracy: 0.8730 - val_loss: 0.3724 - val_accuracy: 0.8633\n",
      "Epoch 5/5\n",
      "1500/1500 [==============================] - 4s 2ms/step - loss: 0.3280 - accuracy: 0.8807 - val_loss: 0.3561 - val_accuracy: 0.8691\n",
      "Epoch 1/5\n",
      "1500/1500 [==============================] - 6s 3ms/step - loss: 0.6071 - accuracy: 0.7831 - val_loss: 0.4234 - val_accuracy: 0.8472\n",
      "Epoch 2/5\n",
      "1500/1500 [==============================] - 5s 3ms/step - loss: 0.4002 - accuracy: 0.8518 - val_loss: 0.3747 - val_accuracy: 0.8648\n",
      "Epoch 3/5\n",
      "1500/1500 [==============================] - 5s 3ms/step - loss: 0.3686 - accuracy: 0.8627 - val_loss: 0.3722 - val_accuracy: 0.8622\n",
      "Epoch 4/5\n",
      "1500/1500 [==============================] - 5s 3ms/step - loss: 0.3382 - accuracy: 0.8762 - val_loss: 0.3702 - val_accuracy: 0.8658\n",
      "Epoch 5/5\n",
      "1500/1500 [==============================] - 5s 3ms/step - loss: 0.3280 - accuracy: 0.8777 - val_loss: 0.3541 - val_accuracy: 0.8730\n",
      "Epoch 1/5\n",
      "1500/1500 [==============================] - 7s 4ms/step - loss: 0.6053 - accuracy: 0.7803 - val_loss: 0.4161 - val_accuracy: 0.8514\n",
      "Epoch 2/5\n",
      "1500/1500 [==============================] - 6s 4ms/step - loss: 0.3961 - accuracy: 0.8559 - val_loss: 0.3884 - val_accuracy: 0.8548\n",
      "Epoch 3/5\n",
      "1500/1500 [==============================] - 6s 4ms/step - loss: 0.3575 - accuracy: 0.8677 - val_loss: 0.3740 - val_accuracy: 0.8631\n",
      "Epoch 4/5\n",
      "1500/1500 [==============================] - 5s 4ms/step - loss: 0.3463 - accuracy: 0.8723 - val_loss: 0.3658 - val_accuracy: 0.8681\n",
      "Epoch 5/5\n",
      "1500/1500 [==============================] - 5s 3ms/step - loss: 0.3275 - accuracy: 0.8771 - val_loss: 0.3631 - val_accuracy: 0.8686\n"
     ]
    }
   ],
   "source": [
    "for n_neurons in range(64, 193, 64):\n",
    "# Build the model.\n",
    "    model = Sequential([\n",
    "    Dense(n_neurons, activation='tanh', input_shape=(784,)),\n",
    "    Dense(n_neurons, activation='tanh'),   \n",
    "    Dense(10, activation='softmax'),# выходной слой из 10 нейронов (сколько классов, столько нейронов) + активация softmax\n",
    "    ])\n",
    "\n",
    "    no_layers = 3\n",
    "# Compile the model.\n",
    "    model.compile(\n",
    "    optimizer='adam',\n",
    "    loss='categorical_crossentropy',\n",
    "    metrics=['accuracy'],\n",
    "    )\n",
    "\n",
    "    y_t = to_categorical(train_labels)\n",
    "    y_tt = to_categorical(test_labels)\n",
    "\n",
    "    # Train the model.\n",
    "    history= model.fit(  \n",
    "      train_images[:,:],\n",
    "      y_t[:,:],\n",
    "      epochs=5,\n",
    "      batch_size=32, validation_split=0.2\n",
    "      )\n",
    "    \n",
    "    train_acc = history.history['accuracy'][-1]\n",
    "    val_acc = history.history['val_accuracy'][-1]\n",
    "\n",
    "    \n",
    "    df_1b = df_1b.append({'no. layers': no_layers, 'no. neurons': n_neurons, 'train accuracy': train_acc, 'val_accuracy': val_acc}, ignore_index=True)\n",
    "    "
   ]
  },
  {
   "cell_type": "markdown",
   "metadata": {},
   "source": [
    "**5-ти слойная модель, число нейронов: 64, 128, 192**"
   ]
  },
  {
   "cell_type": "code",
   "execution_count": 225,
   "metadata": {},
   "outputs": [
    {
     "name": "stdout",
     "output_type": "stream",
     "text": [
      "Epoch 1/5\n",
      "1500/1500 [==============================] - 5s 3ms/step - loss: 0.6670 - accuracy: 0.7695 - val_loss: 0.4327 - val_accuracy: 0.8422\n",
      "Epoch 2/5\n",
      "1500/1500 [==============================] - 4s 2ms/step - loss: 0.4180 - accuracy: 0.8485 - val_loss: 0.4000 - val_accuracy: 0.8502\n",
      "Epoch 3/5\n",
      "1500/1500 [==============================] - 4s 3ms/step - loss: 0.3823 - accuracy: 0.8599 - val_loss: 0.4002 - val_accuracy: 0.8524\n",
      "Epoch 4/5\n",
      "1500/1500 [==============================] - 4s 2ms/step - loss: 0.3610 - accuracy: 0.8691 - val_loss: 0.3891 - val_accuracy: 0.8583\n",
      "Epoch 5/5\n",
      "1500/1500 [==============================] - 4s 3ms/step - loss: 0.3401 - accuracy: 0.8786 - val_loss: 0.3881 - val_accuracy: 0.8579\n",
      "Epoch 1/5\n",
      "1500/1500 [==============================] - 7s 4ms/step - loss: 0.6083 - accuracy: 0.7801 - val_loss: 0.4287 - val_accuracy: 0.8483\n",
      "Epoch 2/5\n",
      "1500/1500 [==============================] - 6s 4ms/step - loss: 0.4045 - accuracy: 0.8503 - val_loss: 0.4085 - val_accuracy: 0.8512\n",
      "Epoch 3/5\n",
      "1500/1500 [==============================] - 6s 4ms/step - loss: 0.3799 - accuracy: 0.8604 - val_loss: 0.3962 - val_accuracy: 0.8568\n",
      "Epoch 4/5\n",
      "1500/1500 [==============================] - 6s 4ms/step - loss: 0.3596 - accuracy: 0.8680 - val_loss: 0.4114 - val_accuracy: 0.8547\n",
      "Epoch 5/5\n",
      "1500/1500 [==============================] - 6s 4ms/step - loss: 0.3512 - accuracy: 0.8701 - val_loss: 0.3592 - val_accuracy: 0.8719\n",
      "Epoch 1/5\n",
      "1500/1500 [==============================] - 9s 6ms/step - loss: 0.6238 - accuracy: 0.7737 - val_loss: 0.4129 - val_accuracy: 0.8515\n",
      "Epoch 2/5\n",
      "1500/1500 [==============================] - 8s 5ms/step - loss: 0.4132 - accuracy: 0.8471 - val_loss: 0.4793 - val_accuracy: 0.8150\n",
      "Epoch 3/5\n",
      "1500/1500 [==============================] - 7s 5ms/step - loss: 0.3915 - accuracy: 0.8557 - val_loss: 0.3956 - val_accuracy: 0.8543\n",
      "Epoch 4/5\n",
      "1500/1500 [==============================] - 8s 5ms/step - loss: 0.3706 - accuracy: 0.8629 - val_loss: 0.3792 - val_accuracy: 0.8651\n",
      "Epoch 5/5\n",
      "1500/1500 [==============================] - 8s 5ms/step - loss: 0.3458 - accuracy: 0.8732 - val_loss: 0.3862 - val_accuracy: 0.8559\n"
     ]
    }
   ],
   "source": [
    "for n_neurons in range(64, 193, 64):\n",
    "# Build the model.\n",
    "    model = Sequential([\n",
    "    Dense(n_neurons, activation='tanh', input_shape=(784,)),\n",
    "    Dense(n_neurons, activation='tanh'),  \n",
    "    Dense(n_neurons, activation='tanh'),    \n",
    "    Dense(n_neurons, activation='tanh'),   \n",
    "    Dense(10, activation='softmax'),# выходной слой из 10 нейронов (сколько классов, столько нейронов) + активация softmax\n",
    "    ])\n",
    "\n",
    "    no_layers = 5\n",
    "# Compile the model.\n",
    "    model.compile(\n",
    "    optimizer='adam',\n",
    "    loss='categorical_crossentropy',\n",
    "    metrics=['accuracy'],\n",
    "    )\n",
    "\n",
    "    y_t = to_categorical(train_labels)\n",
    "    y_tt = to_categorical(test_labels)\n",
    "\n",
    "    # Train the model.\n",
    "    history= model.fit(  \n",
    "      train_images[:,:],\n",
    "      y_t[:,:],\n",
    "      epochs=5,\n",
    "      batch_size=32, validation_split=0.2\n",
    "      )\n",
    "    \n",
    "    train_acc = history.history['accuracy'][-1]\n",
    "    val_acc = history.history['val_accuracy'][-1]\n",
    "\n",
    "    \n",
    "    df_1b = df_1b.append({'no. layers': no_layers, 'no. neurons': n_neurons, 'train accuracy': train_acc, 'val_accuracy': val_acc}, ignore_index=True)\n",
    "    "
   ]
  },
  {
   "cell_type": "markdown",
   "metadata": {},
   "source": [
    "**10-ти слойная модель, число нейронов: 64, 128, 192**"
   ]
  },
  {
   "cell_type": "code",
   "execution_count": 226,
   "metadata": {},
   "outputs": [
    {
     "name": "stdout",
     "output_type": "stream",
     "text": [
      "Epoch 1/5\n",
      "1500/1500 [==============================] - 7s 4ms/step - loss: 0.7081 - accuracy: 0.7509 - val_loss: 0.4902 - val_accuracy: 0.8242\n",
      "Epoch 2/5\n",
      "1500/1500 [==============================] - 5s 3ms/step - loss: 0.4534 - accuracy: 0.8378 - val_loss: 0.4622 - val_accuracy: 0.8317\n",
      "Epoch 3/5\n",
      "1500/1500 [==============================] - 5s 3ms/step - loss: 0.4127 - accuracy: 0.8496 - val_loss: 0.4213 - val_accuracy: 0.8502\n",
      "Epoch 4/5\n",
      "1500/1500 [==============================] - 5s 3ms/step - loss: 0.4032 - accuracy: 0.8547 - val_loss: 0.4119 - val_accuracy: 0.8500\n",
      "Epoch 5/5\n",
      "1500/1500 [==============================] - 5s 3ms/step - loss: 0.3892 - accuracy: 0.8605 - val_loss: 0.4028 - val_accuracy: 0.8553\n",
      "Epoch 1/5\n",
      "1500/1500 [==============================] - 9s 5ms/step - loss: 0.6784 - accuracy: 0.7573 - val_loss: 0.5264 - val_accuracy: 0.8250\n",
      "Epoch 2/5\n",
      "1500/1500 [==============================] - 8s 5ms/step - loss: 0.4916 - accuracy: 0.8247 - val_loss: 0.4369 - val_accuracy: 0.8451\n",
      "Epoch 3/5\n",
      "1500/1500 [==============================] - 8s 5ms/step - loss: 0.4489 - accuracy: 0.8383 - val_loss: 0.4357 - val_accuracy: 0.8460\n",
      "Epoch 4/5\n",
      "1500/1500 [==============================] - 8s 6ms/step - loss: 0.4380 - accuracy: 0.8461 - val_loss: 0.4533 - val_accuracy: 0.8443\n",
      "Epoch 5/5\n",
      "1500/1500 [==============================] - 9s 6ms/step - loss: 0.4232 - accuracy: 0.8533 - val_loss: 0.4724 - val_accuracy: 0.8313\n",
      "Epoch 1/5\n",
      "1500/1500 [==============================] - 13s 8ms/step - loss: 0.7280 - accuracy: 0.7413 - val_loss: 0.4863 - val_accuracy: 0.8322\n",
      "Epoch 2/5\n",
      "1500/1500 [==============================] - 11s 8ms/step - loss: 0.5252 - accuracy: 0.8166 - val_loss: 0.5139 - val_accuracy: 0.8196\n",
      "Epoch 3/5\n",
      "1500/1500 [==============================] - 11s 8ms/step - loss: 0.4990 - accuracy: 0.8243 - val_loss: 0.4956 - val_accuracy: 0.8307\n",
      "Epoch 4/5\n",
      "1500/1500 [==============================] - 12s 8ms/step - loss: 0.4797 - accuracy: 0.8294 - val_loss: 0.4658 - val_accuracy: 0.8405\n",
      "Epoch 5/5\n",
      "1500/1500 [==============================] - 12s 8ms/step - loss: 0.4578 - accuracy: 0.8393 - val_loss: 0.4776 - val_accuracy: 0.8301\n"
     ]
    }
   ],
   "source": [
    "for n_neurons in range(64, 193, 64):\n",
    "# Build the model.\n",
    "    model = Sequential([\n",
    "    Dense(n_neurons, activation='tanh', input_shape=(784,)),\n",
    "    Dense(n_neurons, activation='tanh'),  \n",
    "    Dense(n_neurons, activation='tanh'),    \n",
    "    Dense(n_neurons, activation='tanh'),   \n",
    "    Dense(n_neurons, activation='tanh'),      \n",
    "    Dense(n_neurons, activation='tanh'),     \n",
    "    Dense(n_neurons, activation='tanh'),      \n",
    "    Dense(n_neurons, activation='tanh'),      \n",
    "    Dense(n_neurons, activation='tanh'),      \n",
    "    Dense(10, activation='softmax'),# выходной слой из 10 нейронов (сколько классов, столько нейронов) + активация softmax\n",
    "    ])\n",
    "\n",
    "    no_layers = 10\n",
    "# Compile the model.\n",
    "    model.compile(\n",
    "    optimizer='adam',\n",
    "    loss='categorical_crossentropy',\n",
    "    metrics=['accuracy'],\n",
    "    )\n",
    "\n",
    "    y_t = to_categorical(train_labels)\n",
    "    y_tt = to_categorical(test_labels)\n",
    "\n",
    "    # Train the model.\n",
    "    history= model.fit(  \n",
    "      train_images[:,:],\n",
    "      y_t[:,:],\n",
    "      epochs=5,\n",
    "      batch_size=32, validation_split=0.2\n",
    "      )\n",
    "    \n",
    "    train_acc = history.history['accuracy'][-1]\n",
    "    val_acc = history.history['val_accuracy'][-1]\n",
    "\n",
    "    \n",
    "    df_1b = df_1b.append({'no. layers': no_layers, 'no. neurons': n_neurons, 'train accuracy': train_acc, 'val_accuracy': val_acc}, ignore_index=True)"
   ]
  },
  {
   "cell_type": "code",
   "execution_count": 227,
   "metadata": {},
   "outputs": [
    {
     "data": {
      "text/html": [
       "<div>\n",
       "<style scoped>\n",
       "    .dataframe tbody tr th:only-of-type {\n",
       "        vertical-align: middle;\n",
       "    }\n",
       "\n",
       "    .dataframe tbody tr th {\n",
       "        vertical-align: top;\n",
       "    }\n",
       "\n",
       "    .dataframe thead th {\n",
       "        text-align: right;\n",
       "    }\n",
       "</style>\n",
       "<table border=\"1\" class=\"dataframe\">\n",
       "  <thead>\n",
       "    <tr style=\"text-align: right;\">\n",
       "      <th></th>\n",
       "      <th>no. layers</th>\n",
       "      <th>no. neurons</th>\n",
       "      <th>train accuracy</th>\n",
       "      <th>val_accuracy</th>\n",
       "    </tr>\n",
       "  </thead>\n",
       "  <tbody>\n",
       "    <tr>\n",
       "      <th>0</th>\n",
       "      <td>2.0</td>\n",
       "      <td>64.0</td>\n",
       "      <td>0.880417</td>\n",
       "      <td>0.867917</td>\n",
       "    </tr>\n",
       "    <tr>\n",
       "      <th>1</th>\n",
       "      <td>2.0</td>\n",
       "      <td>128.0</td>\n",
       "      <td>0.881542</td>\n",
       "      <td>0.872250</td>\n",
       "    </tr>\n",
       "    <tr>\n",
       "      <th>2</th>\n",
       "      <td>2.0</td>\n",
       "      <td>192.0</td>\n",
       "      <td>0.881146</td>\n",
       "      <td>0.873833</td>\n",
       "    </tr>\n",
       "    <tr>\n",
       "      <th>3</th>\n",
       "      <td>3.0</td>\n",
       "      <td>64.0</td>\n",
       "      <td>0.879562</td>\n",
       "      <td>0.869083</td>\n",
       "    </tr>\n",
       "    <tr>\n",
       "      <th>4</th>\n",
       "      <td>3.0</td>\n",
       "      <td>128.0</td>\n",
       "      <td>0.878563</td>\n",
       "      <td>0.873000</td>\n",
       "    </tr>\n",
       "    <tr>\n",
       "      <th>5</th>\n",
       "      <td>3.0</td>\n",
       "      <td>192.0</td>\n",
       "      <td>0.878146</td>\n",
       "      <td>0.868583</td>\n",
       "    </tr>\n",
       "    <tr>\n",
       "      <th>6</th>\n",
       "      <td>5.0</td>\n",
       "      <td>64.0</td>\n",
       "      <td>0.874750</td>\n",
       "      <td>0.857917</td>\n",
       "    </tr>\n",
       "    <tr>\n",
       "      <th>7</th>\n",
       "      <td>5.0</td>\n",
       "      <td>128.0</td>\n",
       "      <td>0.870958</td>\n",
       "      <td>0.871917</td>\n",
       "    </tr>\n",
       "    <tr>\n",
       "      <th>8</th>\n",
       "      <td>5.0</td>\n",
       "      <td>192.0</td>\n",
       "      <td>0.868542</td>\n",
       "      <td>0.855917</td>\n",
       "    </tr>\n",
       "    <tr>\n",
       "      <th>9</th>\n",
       "      <td>10.0</td>\n",
       "      <td>64.0</td>\n",
       "      <td>0.858271</td>\n",
       "      <td>0.855333</td>\n",
       "    </tr>\n",
       "    <tr>\n",
       "      <th>10</th>\n",
       "      <td>10.0</td>\n",
       "      <td>128.0</td>\n",
       "      <td>0.852083</td>\n",
       "      <td>0.831250</td>\n",
       "    </tr>\n",
       "    <tr>\n",
       "      <th>11</th>\n",
       "      <td>10.0</td>\n",
       "      <td>192.0</td>\n",
       "      <td>0.834875</td>\n",
       "      <td>0.830083</td>\n",
       "    </tr>\n",
       "  </tbody>\n",
       "</table>\n",
       "</div>"
      ],
      "text/plain": [
       "    no. layers  no. neurons  train accuracy  val_accuracy\n",
       "0          2.0         64.0        0.880417      0.867917\n",
       "1          2.0        128.0        0.881542      0.872250\n",
       "2          2.0        192.0        0.881146      0.873833\n",
       "3          3.0         64.0        0.879562      0.869083\n",
       "4          3.0        128.0        0.878563      0.873000\n",
       "5          3.0        192.0        0.878146      0.868583\n",
       "6          5.0         64.0        0.874750      0.857917\n",
       "7          5.0        128.0        0.870958      0.871917\n",
       "8          5.0        192.0        0.868542      0.855917\n",
       "9         10.0         64.0        0.858271      0.855333\n",
       "10        10.0        128.0        0.852083      0.831250\n",
       "11        10.0        192.0        0.834875      0.830083"
      ]
     },
     "execution_count": 227,
     "metadata": {},
     "output_type": "execute_result"
    }
   ],
   "source": [
    "df_1b"
   ]
  },
  {
   "cell_type": "code",
   "execution_count": 228,
   "metadata": {},
   "outputs": [
    {
     "data": {
      "image/png": "[encoded data removed]",
      "text/plain": [
       "<Figure size 1008x432 with 1 Axes>"
      ]
     },
     "metadata": {
      "needs_background": "light"
     },
     "output_type": "display_data"
    }
   ],
   "source": [
    "plt.figure(figsize=(14,6)) \n",
    "plt.plot(df_1b['no. layers'], df_1b['train accuracy'], label='train accuracy')\n",
    "plt.plot(df_1b['no. layers'], df_1b['val_accuracy'], label='val_accuracy')\n",
    "plt.xticks(rotation=45)\n",
    "plt.legend();"
   ]
  },
  {
   "cell_type": "markdown",
   "metadata": {},
   "source": [
    "**Вывод: Оптимальная настройка: 3 слоя/128 нейронов. дальнейшее увеличение слоев к улушению accuracy не привели.**"
   ]
  },
  {
   "cell_type": "markdown",
   "metadata": {},
   "source": [
    "## 2. Проверьте работу разных оптимизаторов (SGD, Adam, RMSProp) для одной из моделей п.1.Фиксируйте для тренировочного и тестового набора метрики accuracy."
   ]
  },
  {
   "cell_type": "code",
   "execution_count": 229,
   "metadata": {},
   "outputs": [],
   "source": [
    "df_2 = pd.DataFrame(columns=['optimizer', 'train accuracy', 'val_accuracy'])"
   ]
  },
  {
   "cell_type": "code",
   "execution_count": 241,
   "metadata": {},
   "outputs": [
    {
     "name": "stdout",
     "output_type": "stream",
     "text": [
      "Epoch 1/5\n",
      "1500/1500 [==============================] - 5s 3ms/step - loss: 0.6006 - accuracy: 0.7848 - val_loss: 0.4315 - val_accuracy: 0.8398\n",
      "Epoch 2/5\n",
      "1500/1500 [==============================] - 5s 3ms/step - loss: 0.4019 - accuracy: 0.8544 - val_loss: 0.3999 - val_accuracy: 0.8557\n",
      "Epoch 3/5\n",
      "1500/1500 [==============================] - 4s 3ms/step - loss: 0.3590 - accuracy: 0.8672 - val_loss: 0.3684 - val_accuracy: 0.8677\n",
      "Epoch 4/5\n",
      "1500/1500 [==============================] - 5s 3ms/step - loss: 0.3396 - accuracy: 0.8733 - val_loss: 0.3924 - val_accuracy: 0.8537\n",
      "Epoch 5/5\n",
      "1500/1500 [==============================] - 5s 3ms/step - loss: 0.3289 - accuracy: 0.8798 - val_loss: 0.3734 - val_accuracy: 0.8616\n"
     ]
    }
   ],
   "source": [
    "model = Sequential([\n",
    "    Dense(128, activation='tanh', input_shape=(784,)),\n",
    "    Dense(128, activation='tanh'),   \n",
    "    Dense(10, activation='softmax'),# выходной слой из 10 нейронов (сколько классов, столько нейронов) + активация softmax\n",
    "])\n",
    "\n",
    "# Compile the model.\n",
    "model.compile(\n",
    "    optimizer='adam',\n",
    "    loss='categorical_crossentropy',\n",
    "    metrics=['accuracy'],\n",
    ")\n",
    "\n",
    "y_t = to_categorical(train_labels)\n",
    "y_tt = to_categorical(test_labels)\n",
    "\n",
    "    # Train the model.\n",
    "history= model.fit(  \n",
    "    train_images[:,:],\n",
    "    y_t[:,:],\n",
    "    epochs=5,\n",
    "    batch_size=32, validation_split=0.2\n",
    ")\n",
    "    \n",
    "train_acc = history.history['accuracy'][-1]\n",
    "val_acc = history.history['val_accuracy'][-1]\n",
    "    \n",
    "df_2 = df_2.append({'optimizer': 'adam', 'train accuracy': train_acc, 'val_accuracy': val_acc}, ignore_index=True)\n",
    "    "
   ]
  },
  {
   "cell_type": "code",
   "execution_count": 243,
   "metadata": {},
   "outputs": [
    {
     "name": "stdout",
     "output_type": "stream",
     "text": [
      "Epoch 1/5\n",
      "1500/1500 [==============================] - 5s 3ms/step - loss: 0.8514 - accuracy: 0.7120 - val_loss: 0.4889 - val_accuracy: 0.8251\n",
      "Epoch 2/5\n",
      "1500/1500 [==============================] - 4s 3ms/step - loss: 0.4659 - accuracy: 0.8364 - val_loss: 0.4432 - val_accuracy: 0.8381\n",
      "Epoch 3/5\n",
      "1500/1500 [==============================] - 5s 3ms/step - loss: 0.4198 - accuracy: 0.8514 - val_loss: 0.4118 - val_accuracy: 0.8509\n",
      "Epoch 4/5\n",
      "1500/1500 [==============================] - 4s 3ms/step - loss: 0.3824 - accuracy: 0.8634 - val_loss: 0.3855 - val_accuracy: 0.8640\n",
      "Epoch 5/5\n",
      "1500/1500 [==============================] - 4s 3ms/step - loss: 0.3743 - accuracy: 0.8674 - val_loss: 0.3734 - val_accuracy: 0.8664\n"
     ]
    }
   ],
   "source": [
    "model = Sequential([\n",
    "    Dense(128, activation='tanh', input_shape=(784,)),\n",
    "    Dense(128, activation='tanh'),   \n",
    "    Dense(10, activation='softmax'),# выходной слой из 10 нейронов (сколько классов, столько нейронов) + активация softmax\n",
    "])\n",
    "\n",
    "# Compile the model.\n",
    "model.compile(\n",
    "    optimizer='SGD',\n",
    "    loss='categorical_crossentropy',\n",
    "    metrics=['accuracy'],\n",
    ")\n",
    "\n",
    "y_t = to_categorical(train_labels)\n",
    "y_tt = to_categorical(test_labels)\n",
    "\n",
    "    # Train the model.\n",
    "history= model.fit(  \n",
    "    train_images[:,:],\n",
    "    y_t[:,:],\n",
    "    epochs=5,\n",
    "    batch_size=32, validation_split=0.2\n",
    ")\n",
    "    \n",
    "train_acc = history.history['accuracy'][-1]\n",
    "val_acc = history.history['val_accuracy'][-1]\n",
    "    \n",
    "df_2 = df_2.append({'optimizer': 'SGD', 'train accuracy': train_acc, 'val_accuracy': val_acc}, ignore_index=True)"
   ]
  },
  {
   "cell_type": "code",
   "execution_count": 251,
   "metadata": {},
   "outputs": [
    {
     "name": "stdout",
     "output_type": "stream",
     "text": [
      "Epoch 1/5\n",
      "1500/1500 [==============================] - 6s 4ms/step - loss: 0.6314 - accuracy: 0.7707 - val_loss: 0.4936 - val_accuracy: 0.8200\n",
      "Epoch 2/5\n",
      "1500/1500 [==============================] - 5s 3ms/step - loss: 0.4043 - accuracy: 0.8540 - val_loss: 0.3808 - val_accuracy: 0.8644\n",
      "Epoch 3/5\n",
      "1500/1500 [==============================] - 5s 3ms/step - loss: 0.3566 - accuracy: 0.8695 - val_loss: 0.3679 - val_accuracy: 0.8684\n",
      "Epoch 4/5\n",
      "1500/1500 [==============================] - 5s 3ms/step - loss: 0.3344 - accuracy: 0.8759 - val_loss: 0.4035 - val_accuracy: 0.8511\n",
      "Epoch 5/5\n",
      "1500/1500 [==============================] - 5s 3ms/step - loss: 0.3177 - accuracy: 0.8862 - val_loss: 0.3444 - val_accuracy: 0.8742\n"
     ]
    }
   ],
   "source": [
    "my_model = Sequential([\n",
    "    Dense(128, activation='tanh', input_shape=(784,)),\n",
    "    Dense(128, activation='tanh'),   \n",
    "    Dense(10, activation='softmax'),# выходной слой из 10 нейронов (сколько классов, столько нейронов) + активация softmax\n",
    "])\n",
    "\n",
    "# Compile the model.\n",
    "my_model.compile(\n",
    "    optimizer='RMSProp',\n",
    "    loss='categorical_crossentropy',\n",
    "    metrics=['accuracy'],\n",
    ")\n",
    "\n",
    "y_t = to_categorical(train_labels)\n",
    "y_tt = to_categorical(test_labels)\n",
    "\n",
    "    # Train the model.\n",
    "history= my_model.fit(  \n",
    "    train_images[:,:],\n",
    "    y_t[:,:],\n",
    "    epochs=5,\n",
    "    batch_size=32, validation_split=0.2\n",
    ")\n",
    "    \n",
    "train_acc = history.history['accuracy'][-1]\n",
    "val_acc = history.history['val_accuracy'][-1]\n",
    "    \n",
    "df_2 = df_2.append({'optimizer': 'RMSProp', 'train accuracy': train_acc, 'val_accuracy': val_acc}, ignore_index=True)"
   ]
  },
  {
   "cell_type": "code",
   "execution_count": 252,
   "metadata": {},
   "outputs": [
    {
     "data": {
      "text/html": [
       "<div>\n",
       "<style scoped>\n",
       "    .dataframe tbody tr th:only-of-type {\n",
       "        vertical-align: middle;\n",
       "    }\n",
       "\n",
       "    .dataframe tbody tr th {\n",
       "        vertical-align: top;\n",
       "    }\n",
       "\n",
       "    .dataframe thead th {\n",
       "        text-align: right;\n",
       "    }\n",
       "</style>\n",
       "<table border=\"1\" class=\"dataframe\">\n",
       "  <thead>\n",
       "    <tr style=\"text-align: right;\">\n",
       "      <th></th>\n",
       "      <th>optimizer</th>\n",
       "      <th>train accuracy</th>\n",
       "      <th>val_accuracy</th>\n",
       "    </tr>\n",
       "  </thead>\n",
       "  <tbody>\n",
       "    <tr>\n",
       "      <th>0</th>\n",
       "      <td>adam</td>\n",
       "      <td>0.877833</td>\n",
       "      <td>0.861583</td>\n",
       "    </tr>\n",
       "    <tr>\n",
       "      <th>1</th>\n",
       "      <td>SGD</td>\n",
       "      <td>0.869604</td>\n",
       "      <td>0.866417</td>\n",
       "    </tr>\n",
       "    <tr>\n",
       "      <th>2</th>\n",
       "      <td>RMSProp</td>\n",
       "      <td>0.884562</td>\n",
       "      <td>0.866500</td>\n",
       "    </tr>\n",
       "    <tr>\n",
       "      <th>3</th>\n",
       "      <td>RMSProp</td>\n",
       "      <td>0.885083</td>\n",
       "      <td>0.874167</td>\n",
       "    </tr>\n",
       "  </tbody>\n",
       "</table>\n",
       "</div>"
      ],
      "text/plain": [
       "  optimizer  train accuracy  val_accuracy\n",
       "0      adam        0.877833      0.861583\n",
       "1       SGD        0.869604      0.866417\n",
       "2   RMSProp        0.884562      0.866500\n",
       "3   RMSProp        0.885083      0.874167"
      ]
     },
     "execution_count": 252,
     "metadata": {},
     "output_type": "execute_result"
    }
   ],
   "source": [
    "df_2"
   ]
  },
  {
   "cell_type": "code",
   "execution_count": 248,
   "metadata": {},
   "outputs": [
    {
     "data": {
      "image/png": "[encoded data removed]",
      "text/plain": [
       "<Figure size 1008x432 with 1 Axes>"
      ]
     },
     "metadata": {
      "needs_background": "light"
     },
     "output_type": "display_data"
    }
   ],
   "source": [
    "plt.figure(figsize=(14,6)) \n",
    "plt.plot(df_2['optimizer'], df_2['train accuracy'], label='train accuracy')\n",
    "plt.plot(df_2['optimizer'], df_2['val_accuracy'], label='val_accuracy')\n",
    "plt.xticks(rotation=45)\n",
    "plt.legend();"
   ]
  },
  {
   "cell_type": "markdown",
   "metadata": {},
   "source": [
    "**Вывод: Хуже себя показал оптимизатор Adam. \n",
    "         Разница между accuracy val и accuracy train на оптимизаторе SGD говорит о возможном            переобучении.\n",
    "         Поэтому выбираю оптимизатор RMSProp.**\n",
    "         \n",
    "    "
   ]
  },
  {
   "cell_type": "markdown",
   "metadata": {},
   "source": [
    "## 4. Для одного варианта сетей сформируйте матрицу ошибок по классам."
   ]
  },
  {
   "cell_type": "code",
   "execution_count": 265,
   "metadata": {},
   "outputs": [],
   "source": [
    "y_pred = my_model.predict(test_images)\n",
    "y_pred_class = np.argmax(y_pred, axis=1)"
   ]
  },
  {
   "cell_type": "code",
   "execution_count": 266,
   "metadata": {},
   "outputs": [],
   "source": [
    "def plot_confusion_matrix(cm, classes,\n",
    "                          normalize=False,\n",
    "                          title='Confusion matrix',\n",
    "                          cmap=plt.cm.Blues):\n",
    "    \"\"\"\n",
    "    This function prints and plots the confusion matrix.\n",
    "    Normalization can be applied by setting `normalize=True`.\n",
    "    \"\"\"\n",
    "    plt.imshow(cm, interpolation='nearest', cmap=cmap)\n",
    "    plt.title(title)\n",
    "    plt.colorbar()\n",
    "    tick_marks = np.arange(len(classes))\n",
    "    plt.xticks(tick_marks, classes, rotation=45)\n",
    "    plt.yticks(tick_marks, classes)\n",
    "\n",
    "    if normalize:\n",
    "        cm = cm.astype('float') / cm.sum(axis=1)[:, np.newaxis]\n",
    "        print(\"Normalized confusion matrix\")\n",
    "    else:\n",
    "        print('Confusion matrix, without normalization')\n",
    "\n",
    "    #print(cm)\n",
    "\n",
    "    thresh = cm.max() / 2.\n",
    "    for i, j in itertools.product(range(cm.shape[0]), range(cm.shape[1])):\n",
    "        plt.text(j, i, cm[i, j],\n",
    "                 horizontalalignment=\"center\",\n",
    "                 color=\"white\" if cm[i, j] > thresh else \"black\")\n",
    "\n",
    "    plt.tight_layout()\n",
    "    plt.ylabel('True label')\n",
    "    plt.xlabel('Predicted label')"
   ]
  },
  {
   "cell_type": "code",
   "execution_count": 267,
   "metadata": {},
   "outputs": [
    {
     "name": "stdout",
     "output_type": "stream",
     "text": [
      "Confusion matrix, without normalization\n"
     ]
    },
    {
     "data": {
      "image/png": "[encoded data removed]",
      "text/plain": [
       "<Figure size 720x576 with 2 Axes>"
      ]
     },
     "metadata": {
      "needs_background": "light"
     },
     "output_type": "display_data"
    }
   ],
   "source": [
    "cnf_matrix = confusion_matrix(test_labels, y_pred_class)\n",
    "plt.figure(figsize=(10, 8))\n",
    "plot_confusion_matrix(cnf_matrix, classes=['0', '1', '2', '3', '4', '5', '6', '7', '8', '9'],\n",
    "                      title='Confusion matrix', normalize=False)\n",
    "plt.show()"
   ]
  },
  {
   "cell_type": "code",
   "execution_count": 268,
   "metadata": {},
   "outputs": [],
   "source": [
    "def get_precision_and_recall_from_confusion_matrix(label, cnf_matrix):\n",
    "    str_sum = 0\n",
    "    col_sum = 0\n",
    "    for i in range(len(cnf_matrix)):\n",
    "        str_sum += cnf_matrix[label][i]\n",
    "        col_sum += cnf_matrix[i][label]\n",
    "        \n",
    "    return cnf_matrix[label][label] / str_sum, cnf_matrix[label][label] / col_sum"
   ]
  },
  {
   "cell_type": "code",
   "execution_count": 269,
   "metadata": {},
   "outputs": [
    {
     "data": {
      "text/html": [
       "<div>\n",
       "<style scoped>\n",
       "    .dataframe tbody tr th:only-of-type {\n",
       "        vertical-align: middle;\n",
       "    }\n",
       "\n",
       "    .dataframe tbody tr th {\n",
       "        vertical-align: top;\n",
       "    }\n",
       "\n",
       "    .dataframe thead th {\n",
       "        text-align: right;\n",
       "    }\n",
       "</style>\n",
       "<table border=\"1\" class=\"dataframe\">\n",
       "  <thead>\n",
       "    <tr style=\"text-align: right;\">\n",
       "      <th></th>\n",
       "      <th>label</th>\n",
       "      <th>precision</th>\n",
       "      <th>recall</th>\n",
       "    </tr>\n",
       "  </thead>\n",
       "  <tbody>\n",
       "    <tr>\n",
       "      <th>9</th>\n",
       "      <td>9</td>\n",
       "      <td>0.967</td>\n",
       "      <td>0.917457</td>\n",
       "    </tr>\n",
       "    <tr>\n",
       "      <th>1</th>\n",
       "      <td>1</td>\n",
       "      <td>0.963</td>\n",
       "      <td>0.987692</td>\n",
       "    </tr>\n",
       "    <tr>\n",
       "      <th>8</th>\n",
       "      <td>8</td>\n",
       "      <td>0.953</td>\n",
       "      <td>0.968496</td>\n",
       "    </tr>\n",
       "    <tr>\n",
       "      <th>5</th>\n",
       "      <td>5</td>\n",
       "      <td>0.922</td>\n",
       "      <td>0.963427</td>\n",
       "    </tr>\n",
       "    <tr>\n",
       "      <th>7</th>\n",
       "      <td>7</td>\n",
       "      <td>0.919</td>\n",
       "      <td>0.925478</td>\n",
       "    </tr>\n",
       "    <tr>\n",
       "      <th>3</th>\n",
       "      <td>3</td>\n",
       "      <td>0.895</td>\n",
       "      <td>0.838015</td>\n",
       "    </tr>\n",
       "    <tr>\n",
       "      <th>4</th>\n",
       "      <td>4</td>\n",
       "      <td>0.794</td>\n",
       "      <td>0.757634</td>\n",
       "    </tr>\n",
       "    <tr>\n",
       "      <th>0</th>\n",
       "      <td>0</td>\n",
       "      <td>0.745</td>\n",
       "      <td>0.862269</td>\n",
       "    </tr>\n",
       "    <tr>\n",
       "      <th>2</th>\n",
       "      <td>2</td>\n",
       "      <td>0.735</td>\n",
       "      <td>0.808581</td>\n",
       "    </tr>\n",
       "    <tr>\n",
       "      <th>6</th>\n",
       "      <td>6</td>\n",
       "      <td>0.724</td>\n",
       "      <td>0.630662</td>\n",
       "    </tr>\n",
       "  </tbody>\n",
       "</table>\n",
       "</div>"
      ],
      "text/plain": [
       "   label  precision    recall\n",
       "9      9      0.967  0.917457\n",
       "1      1      0.963  0.987692\n",
       "8      8      0.953  0.968496\n",
       "5      5      0.922  0.963427\n",
       "7      7      0.919  0.925478\n",
       "3      3      0.895  0.838015\n",
       "4      4      0.794  0.757634\n",
       "0      0      0.745  0.862269\n",
       "2      2      0.735  0.808581\n",
       "6      6      0.724  0.630662"
      ]
     },
     "execution_count": 269,
     "metadata": {},
     "output_type": "execute_result"
    }
   ],
   "source": [
    "pr_rc_result = pd.DataFrame()\n",
    "precisions = []\n",
    "recalls = []\n",
    "labels = [0, 1, 2, 3, 4, 5, 6, 7, 8, 9]\n",
    "for l in labels:\n",
    "    p_r = get_precision_and_recall_from_confusion_matrix(l, cnf_matrix)\n",
    "    precisions.append(p_r[0])\n",
    "    recalls.append(p_r[1])\n",
    "pr_rc_result['label'] = labels\n",
    "pr_rc_result['precision'] = precisions\n",
    "pr_rc_result['recall'] = recalls\n",
    "\n",
    "pr_rc_result.sort_values(by='precision', ascending=False)"
   ]
  },
  {
   "cell_type": "code",
   "execution_count": 270,
   "metadata": {},
   "outputs": [
    {
     "data": {
      "text/html": [
       "<div>\n",
       "<style scoped>\n",
       "    .dataframe tbody tr th:only-of-type {\n",
       "        vertical-align: middle;\n",
       "    }\n",
       "\n",
       "    .dataframe tbody tr th {\n",
       "        vertical-align: top;\n",
       "    }\n",
       "\n",
       "    .dataframe thead th {\n",
       "        text-align: right;\n",
       "    }\n",
       "</style>\n",
       "<table border=\"1\" class=\"dataframe\">\n",
       "  <thead>\n",
       "    <tr style=\"text-align: right;\">\n",
       "      <th></th>\n",
       "      <th>label</th>\n",
       "      <th>precision</th>\n",
       "      <th>recall</th>\n",
       "    </tr>\n",
       "  </thead>\n",
       "  <tbody>\n",
       "    <tr>\n",
       "      <th>1</th>\n",
       "      <td>1</td>\n",
       "      <td>0.963</td>\n",
       "      <td>0.987692</td>\n",
       "    </tr>\n",
       "    <tr>\n",
       "      <th>8</th>\n",
       "      <td>8</td>\n",
       "      <td>0.953</td>\n",
       "      <td>0.968496</td>\n",
       "    </tr>\n",
       "    <tr>\n",
       "      <th>5</th>\n",
       "      <td>5</td>\n",
       "      <td>0.922</td>\n",
       "      <td>0.963427</td>\n",
       "    </tr>\n",
       "    <tr>\n",
       "      <th>7</th>\n",
       "      <td>7</td>\n",
       "      <td>0.919</td>\n",
       "      <td>0.925478</td>\n",
       "    </tr>\n",
       "    <tr>\n",
       "      <th>9</th>\n",
       "      <td>9</td>\n",
       "      <td>0.967</td>\n",
       "      <td>0.917457</td>\n",
       "    </tr>\n",
       "    <tr>\n",
       "      <th>0</th>\n",
       "      <td>0</td>\n",
       "      <td>0.745</td>\n",
       "      <td>0.862269</td>\n",
       "    </tr>\n",
       "    <tr>\n",
       "      <th>3</th>\n",
       "      <td>3</td>\n",
       "      <td>0.895</td>\n",
       "      <td>0.838015</td>\n",
       "    </tr>\n",
       "    <tr>\n",
       "      <th>2</th>\n",
       "      <td>2</td>\n",
       "      <td>0.735</td>\n",
       "      <td>0.808581</td>\n",
       "    </tr>\n",
       "    <tr>\n",
       "      <th>4</th>\n",
       "      <td>4</td>\n",
       "      <td>0.794</td>\n",
       "      <td>0.757634</td>\n",
       "    </tr>\n",
       "    <tr>\n",
       "      <th>6</th>\n",
       "      <td>6</td>\n",
       "      <td>0.724</td>\n",
       "      <td>0.630662</td>\n",
       "    </tr>\n",
       "  </tbody>\n",
       "</table>\n",
       "</div>"
      ],
      "text/plain": [
       "   label  precision    recall\n",
       "1      1      0.963  0.987692\n",
       "8      8      0.953  0.968496\n",
       "5      5      0.922  0.963427\n",
       "7      7      0.919  0.925478\n",
       "9      9      0.967  0.917457\n",
       "0      0      0.745  0.862269\n",
       "3      3      0.895  0.838015\n",
       "2      2      0.735  0.808581\n",
       "4      4      0.794  0.757634\n",
       "6      6      0.724  0.630662"
      ]
     },
     "execution_count": 270,
     "metadata": {},
     "output_type": "execute_result"
    }
   ],
   "source": [
    "pr_rc_result.sort_values(by='recall', ascending=False)"
   ]
  },
  {
   "cell_type": "code",
   "execution_count": null,
   "metadata": {},
   "outputs": [],
   "source": []
  }
 ],
 "metadata": {
  "kernelspec": {
   "display_name": "Python 3",
   "language": "python",
   "name": "python3"
  },
  "language_info": {
   "codemirror_mode": {
    "name": "ipython",
    "version": 3
   },
   "file_extension": ".py",
   "mimetype": "text/x-python",
   "name": "python",
   "nbconvert_exporter": "python",
   "pygments_lexer": "ipython3",
   "version": "3.8.3"
  }
 },
 "nbformat": 4,
 "nbformat_minor": 4
}
