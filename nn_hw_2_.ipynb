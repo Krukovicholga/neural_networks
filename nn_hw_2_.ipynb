{
 "cells": [
  {
   "cell_type": "code",
   "execution_count": 272,
   "metadata": {},
   "outputs": [],
   "source": [
    "import tensorflow as tf\n",
    "import keras\n",
    "from keras.datasets import fashion_mnist\n",
    "import matplotlib.pyplot as plt"
   ]
  },
  {
   "cell_type": "code",
   "execution_count": 273,
   "metadata": {},
   "outputs": [],
   "source": [
    "import numpy as np\n",
    "#import mnist\n",
    "from keras.models import Sequential\n",
    "from keras.layers import Dense\n",
    "from keras.utils import to_categorical\n",
    "from keras.datasets import mnist"
   ]
  },
  {
   "cell_type": "code",
   "execution_count": 274,
   "metadata": {},
   "outputs": [],
   "source": [
    "from keras.utils import plot_model\n",
    "from keras.utils import to_categorical"
   ]
  },
  {
   "cell_type": "code",
   "execution_count": 275,
   "metadata": {},
   "outputs": [],
   "source": [
    "import pandas as pd"
   ]
  },
  {
   "cell_type": "code",
   "execution_count": 276,
   "metadata": {},
   "outputs": [],
   "source": [
    "from sklearn.metrics import confusion_matrix\n",
    "import itertools"
   ]
  },
  {
   "cell_type": "code",
   "execution_count": 277,
   "metadata": {},
   "outputs": [],
   "source": [
    "(train_images,train_labels),(test_images,test_labels)=fashion_mnist.load_data()"
   ]
  },
  {
   "cell_type": "code",
   "execution_count": 278,
   "metadata": {},
   "outputs": [
    {
     "data": {
      "image/png": "[encoded data removed]",
      "text/plain": [
       "<Figure size 432x288 with 1 Axes>"
      ]
     },
     "metadata": {
      "needs_background": "light"
     },
     "output_type": "display_data"
    }
   ],
   "source": [
    "plt.imshow(train_images[2,:,:])\n",
    "plt.show()"
   ]
  },
  {
   "cell_type": "code",
   "execution_count": 279,
   "metadata": {},
   "outputs": [
    {
     "name": "stdout",
     "output_type": "stream",
     "text": [
      "(60000, 28, 28)\n",
      "(10000, 28, 28)\n"
     ]
    }
   ],
   "source": [
    "print(train_images.shape) # (60000, 28, 28)\n",
    "print(test_images.shape)  # (10000, 28, 28)"
   ]
  },
  {
   "cell_type": "code",
   "execution_count": 280,
   "metadata": {},
   "outputs": [
    {
     "name": "stdout",
     "output_type": "stream",
     "text": [
      "(60000, 784)\n",
      "(10000, 784)\n"
     ]
    }
   ],
   "source": [
    "# Normalize the images.\n",
    "train_images = (train_images / 127) - 1\n",
    "test_images = (test_images / 127) - 1\n",
    "\n",
    "# Flatten the images.\n",
    "train_images = train_images.reshape((-1, 784))\n",
    "test_images = test_images.reshape((-1, 784))\n",
    "\n",
    "print(train_images.shape) # (60000, 784)\n",
    "print(test_images.shape)  # (10000, 784)"
   ]
  },
  {
   "cell_type": "code",
   "execution_count": 281,
   "metadata": {},
   "outputs": [
    {
     "data": {
      "text/plain": [
       "(-1.0, 1.0078740157480315)"
      ]
     },
     "execution_count": 281,
     "metadata": {},
     "output_type": "execute_result"
    }
   ],
   "source": [
    "train_images.min(), train_images.max()"
   ]
  },
  {
   "cell_type": "code",
   "execution_count": 282,
   "metadata": {},
   "outputs": [
    {
     "data": {
      "text/plain": [
       "(-1.0, 1.0078740157480315)"
      ]
     },
     "execution_count": 282,
     "metadata": {},
     "output_type": "execute_result"
    }
   ],
   "source": [
    "test_images.min(), test_images.max()"
   ]
  },
  {
   "cell_type": "markdown",
   "metadata": {},
   "source": [
    "## 1. Опишите - какой результат получен в нейросети в зависимости от:\n",
    "\n",
    "        a. числа нейронов в слое(для 2-хслойной сети)"
   ]
  },
  {
   "cell_type": "code",
   "execution_count": 283,
   "metadata": {},
   "outputs": [],
   "source": [
    "df = pd.DataFrame(columns=['no. neurons', 'train accuracy', 'val_accuracy'])"
   ]
  },
  {
   "cell_type": "code",
   "execution_count": 284,
   "metadata": {},
   "outputs": [
    {
     "name": "stdout",
     "output_type": "stream",
     "text": [
      "Epoch 1/5\n",
      "1500/1500 [==============================] - 5s 3ms/step - loss: 2.0724 - accuracy: 0.1739 - val_loss: 1.8362 - val_accuracy: 0.1942\n",
      "Epoch 2/5\n",
      "1500/1500 [==============================] - 2s 2ms/step - loss: 1.7913 - accuracy: 0.2038 - val_loss: 1.7243 - val_accuracy: 0.2007\n",
      "Epoch 3/5\n",
      "1500/1500 [==============================] - 2s 2ms/step - loss: 1.7102 - accuracy: 0.2065 - val_loss: 1.6953 - val_accuracy: 0.2160\n",
      "Epoch 4/5\n",
      "1500/1500 [==============================] - 2s 2ms/step - loss: 1.6900 - accuracy: 0.2042 - val_loss: 1.6882 - val_accuracy: 0.2072\n",
      "Epoch 5/5\n",
      "1500/1500 [==============================] - 2s 2ms/step - loss: 1.6797 - accuracy: 0.2030 - val_loss: 1.6831 - val_accuracy: 0.2025\n",
      "Epoch 1/5\n",
      "1500/1500 [==============================] - 4s 2ms/step - loss: 0.6786 - accuracy: 0.7661 - val_loss: 0.4576 - val_accuracy: 0.8318\n",
      "Epoch 2/5\n",
      "1500/1500 [==============================] - 3s 2ms/step - loss: 0.4240 - accuracy: 0.8433 - val_loss: 0.4042 - val_accuracy: 0.8537\n",
      "Epoch 3/5\n",
      "1500/1500 [==============================] - 3s 2ms/step - loss: 0.3806 - accuracy: 0.8637 - val_loss: 0.3932 - val_accuracy: 0.8580\n",
      "Epoch 4/5\n",
      "1500/1500 [==============================] - 3s 2ms/step - loss: 0.3628 - accuracy: 0.8695 - val_loss: 0.3913 - val_accuracy: 0.8610\n",
      "Epoch 5/5\n",
      "1500/1500 [==============================] - 3s 2ms/step - loss: 0.3443 - accuracy: 0.8739 - val_loss: 0.3806 - val_accuracy: 0.8613\n",
      "Epoch 1/5\n",
      "1500/1500 [==============================] - 5s 3ms/step - loss: 0.6189 - accuracy: 0.7815 - val_loss: 0.4307 - val_accuracy: 0.8421\n",
      "Epoch 2/5\n",
      "1500/1500 [==============================] - 4s 2ms/step - loss: 0.4071 - accuracy: 0.8527 - val_loss: 0.4213 - val_accuracy: 0.8443\n",
      "Epoch 3/5\n",
      "1500/1500 [==============================] - 4s 2ms/step - loss: 0.3698 - accuracy: 0.8660 - val_loss: 0.4019 - val_accuracy: 0.8578\n",
      "Epoch 4/5\n",
      "1500/1500 [==============================] - 4s 2ms/step - loss: 0.3536 - accuracy: 0.8723 - val_loss: 0.3645 - val_accuracy: 0.8687\n",
      "Epoch 5/5\n",
      "1500/1500 [==============================] - 4s 2ms/step - loss: 0.3343 - accuracy: 0.8781 - val_loss: 0.3705 - val_accuracy: 0.8673\n",
      "Epoch 1/5\n",
      "1500/1500 [==============================] - 5s 3ms/step - loss: 0.6165 - accuracy: 0.7783 - val_loss: 0.4298 - val_accuracy: 0.8480\n",
      "Epoch 2/5\n",
      "1500/1500 [==============================] - 4s 3ms/step - loss: 0.4070 - accuracy: 0.8509 - val_loss: 0.3908 - val_accuracy: 0.8560\n",
      "Epoch 3/5\n",
      "1500/1500 [==============================] - 4s 3ms/step - loss: 0.3549 - accuracy: 0.8731 - val_loss: 0.3934 - val_accuracy: 0.8553\n",
      "Epoch 4/5\n",
      "1500/1500 [==============================] - 4s 3ms/step - loss: 0.3440 - accuracy: 0.8750 - val_loss: 0.3841 - val_accuracy: 0.8572\n",
      "Epoch 5/5\n",
      "1500/1500 [==============================] - 4s 3ms/step - loss: 0.3275 - accuracy: 0.8809 - val_loss: 0.3757 - val_accuracy: 0.8650\n",
      "Epoch 1/5\n",
      "1500/1500 [==============================] - 6s 3ms/step - loss: 0.6016 - accuracy: 0.7832 - val_loss: 0.4084 - val_accuracy: 0.8522\n",
      "Epoch 2/5\n",
      "1500/1500 [==============================] - 4s 3ms/step - loss: 0.4005 - accuracy: 0.8542 - val_loss: 0.4481 - val_accuracy: 0.8397\n",
      "Epoch 3/5\n",
      "1500/1500 [==============================] - 4s 3ms/step - loss: 0.3656 - accuracy: 0.8649 - val_loss: 0.3728 - val_accuracy: 0.8652\n",
      "Epoch 4/5\n",
      "1500/1500 [==============================] - 4s 3ms/step - loss: 0.3371 - accuracy: 0.8778 - val_loss: 0.3729 - val_accuracy: 0.8643\n",
      "Epoch 5/5\n",
      "1500/1500 [==============================] - 5s 3ms/step - loss: 0.3213 - accuracy: 0.8834 - val_loss: 0.3698 - val_accuracy: 0.8658\n",
      "Epoch 1/5\n",
      "1500/1500 [==============================] - 8s 4ms/step - loss: 0.6002 - accuracy: 0.7830 - val_loss: 0.4106 - val_accuracy: 0.8529\n",
      "Epoch 2/5\n",
      "1500/1500 [==============================] - 5s 3ms/step - loss: 0.3906 - accuracy: 0.8565 - val_loss: 0.3910 - val_accuracy: 0.8594\n",
      "Epoch 3/5\n",
      "1500/1500 [==============================] - 5s 3ms/step - loss: 0.3633 - accuracy: 0.8662 - val_loss: 0.3752 - val_accuracy: 0.8644\n",
      "Epoch 4/5\n",
      "1500/1500 [==============================] - 5s 3ms/step - loss: 0.3326 - accuracy: 0.8810 - val_loss: 0.3549 - val_accuracy: 0.8698\n",
      "Epoch 5/5\n",
      "1500/1500 [==============================] - 5s 3ms/step - loss: 0.3211 - accuracy: 0.8832 - val_loss: 0.3685 - val_accuracy: 0.8657\n",
      "Epoch 1/5\n",
      "1500/1500 [==============================] - 6s 4ms/step - loss: 0.6008 - accuracy: 0.7859 - val_loss: 0.4115 - val_accuracy: 0.8472\n",
      "Epoch 2/5\n",
      "1500/1500 [==============================] - 5s 4ms/step - loss: 0.3927 - accuracy: 0.8583 - val_loss: 0.4140 - val_accuracy: 0.8458\n",
      "Epoch 3/5\n",
      "1500/1500 [==============================] - 6s 4ms/step - loss: 0.3666 - accuracy: 0.8662 - val_loss: 0.3976 - val_accuracy: 0.8610\n",
      "Epoch 4/5\n",
      "1500/1500 [==============================] - 5s 4ms/step - loss: 0.3351 - accuracy: 0.8764 - val_loss: 0.3761 - val_accuracy: 0.8640\n",
      "Epoch 5/5\n",
      "1500/1500 [==============================] - 5s 4ms/step - loss: 0.3266 - accuracy: 0.8792 - val_loss: 0.3730 - val_accuracy: 0.8654\n",
      "Epoch 1/5\n",
      "1500/1500 [==============================] - 7s 4ms/step - loss: 0.5941 - accuracy: 0.7901 - val_loss: 0.4214 - val_accuracy: 0.8467\n",
      "Epoch 2/5\n",
      "1500/1500 [==============================] - 6s 4ms/step - loss: 0.4017 - accuracy: 0.8561 - val_loss: 0.4036 - val_accuracy: 0.8530\n",
      "Epoch 3/5\n",
      "1500/1500 [==============================] - 6s 4ms/step - loss: 0.3529 - accuracy: 0.8696 - val_loss: 0.3858 - val_accuracy: 0.8602\n",
      "Epoch 4/5\n",
      "1500/1500 [==============================] - 6s 4ms/step - loss: 0.3422 - accuracy: 0.8748 - val_loss: 0.3803 - val_accuracy: 0.8664\n",
      "Epoch 5/5\n",
      "1500/1500 [==============================] - 6s 4ms/step - loss: 0.3310 - accuracy: 0.8777 - val_loss: 0.3942 - val_accuracy: 0.8547\n",
      "Epoch 1/5\n",
      "1500/1500 [==============================] - 7s 4ms/step - loss: 0.5951 - accuracy: 0.7885 - val_loss: 0.4176 - val_accuracy: 0.8513\n",
      "Epoch 2/5\n",
      "1500/1500 [==============================] - 6s 4ms/step - loss: 0.3894 - accuracy: 0.8553 - val_loss: 0.3854 - val_accuracy: 0.8597\n",
      "Epoch 3/5\n",
      "1500/1500 [==============================] - 6s 4ms/step - loss: 0.3673 - accuracy: 0.8667 - val_loss: 0.3864 - val_accuracy: 0.8556\n",
      "Epoch 4/5\n",
      "1500/1500 [==============================] - 6s 4ms/step - loss: 0.3418 - accuracy: 0.8743 - val_loss: 0.3756 - val_accuracy: 0.8660\n",
      "Epoch 5/5\n",
      "1500/1500 [==============================] - 6s 4ms/step - loss: 0.3229 - accuracy: 0.8839 - val_loss: 0.4146 - val_accuracy: 0.8506\n",
      "Epoch 1/5\n",
      "1500/1500 [==============================] - 8s 5ms/step - loss: 0.5912 - accuracy: 0.7893 - val_loss: 0.4033 - val_accuracy: 0.8543\n",
      "Epoch 2/5\n",
      "1500/1500 [==============================] - 7s 5ms/step - loss: 0.3893 - accuracy: 0.8555 - val_loss: 0.3733 - val_accuracy: 0.8642\n",
      "Epoch 3/5\n",
      "1500/1500 [==============================] - 7s 5ms/step - loss: 0.3621 - accuracy: 0.8648 - val_loss: 0.3933 - val_accuracy: 0.8546\n",
      "Epoch 4/5\n",
      "1500/1500 [==============================] - 7s 5ms/step - loss: 0.3499 - accuracy: 0.8700 - val_loss: 0.3827 - val_accuracy: 0.8619\n",
      "Epoch 5/5\n",
      "1500/1500 [==============================] - 7s 5ms/step - loss: 0.3396 - accuracy: 0.8755 - val_loss: 0.3715 - val_accuracy: 0.8618\n",
      "Epoch 1/5\n",
      "1500/1500 [==============================] - 11s 6ms/step - loss: 0.6023 - accuracy: 0.7829 - val_loss: 0.4115 - val_accuracy: 0.8523\n",
      "Epoch 2/5\n",
      "1500/1500 [==============================] - 9s 6ms/step - loss: 0.3992 - accuracy: 0.8554 - val_loss: 0.3916 - val_accuracy: 0.8600\n",
      "Epoch 3/5\n",
      "1500/1500 [==============================] - 8s 6ms/step - loss: 0.3586 - accuracy: 0.8680 - val_loss: 0.3707 - val_accuracy: 0.8658\n",
      "Epoch 4/5\n",
      "1500/1500 [==============================] - 9s 6ms/step - loss: 0.3446 - accuracy: 0.8736 - val_loss: 0.4024 - val_accuracy: 0.8533\n",
      "Epoch 5/5\n",
      "1500/1500 [==============================] - 8s 6ms/step - loss: 0.3304 - accuracy: 0.8784 - val_loss: 0.3894 - val_accuracy: 0.8612\n",
      "Epoch 1/5\n",
      "1500/1500 [==============================] - 10s 6ms/step - loss: 0.6053 - accuracy: 0.7862 - val_loss: 0.4318 - val_accuracy: 0.8429\n",
      "Epoch 2/5\n",
      "1500/1500 [==============================] - 9s 6ms/step - loss: 0.4074 - accuracy: 0.8507 - val_loss: 0.4226 - val_accuracy: 0.8444\n",
      "Epoch 3/5\n",
      "1500/1500 [==============================] - 9s 6ms/step - loss: 0.3739 - accuracy: 0.8620 - val_loss: 0.3987 - val_accuracy: 0.8577\n",
      "Epoch 4/5\n",
      "1500/1500 [==============================] - 9s 6ms/step - loss: 0.3581 - accuracy: 0.8671 - val_loss: 0.3550 - val_accuracy: 0.8708\n",
      "Epoch 5/5\n",
      "1500/1500 [==============================] - 9s 6ms/step - loss: 0.3428 - accuracy: 0.8734 - val_loss: 0.3500 - val_accuracy: 0.8736\n",
      "Epoch 1/5\n",
      "1500/1500 [==============================] - 10s 6ms/step - loss: 0.6053 - accuracy: 0.7850 - val_loss: 0.4365 - val_accuracy: 0.8402\n",
      "Epoch 2/5\n",
      "1500/1500 [==============================] - 9s 6ms/step - loss: 0.3978 - accuracy: 0.8533 - val_loss: 0.3958 - val_accuracy: 0.8587\n",
      "Epoch 3/5\n",
      "1500/1500 [==============================] - 9s 6ms/step - loss: 0.3754 - accuracy: 0.8599 - val_loss: 0.3885 - val_accuracy: 0.8580\n",
      "Epoch 4/5\n",
      "1500/1500 [==============================] - 9s 6ms/step - loss: 0.3398 - accuracy: 0.8759 - val_loss: 0.3724 - val_accuracy: 0.8693\n",
      "Epoch 5/5\n",
      "1500/1500 [==============================] - 9s 6ms/step - loss: 0.3343 - accuracy: 0.8771 - val_loss: 0.3770 - val_accuracy: 0.8673\n"
     ]
    }
   ],
   "source": [
    "\n",
    "for n_neurons in range(1,500,40):\n",
    "# Build the model.\n",
    "    model = Sequential([\n",
    "    Dense(n_neurons, activation='tanh', input_shape=(784,)),\n",
    "    Dense(10, activation='softmax'),# выходной слой из 10 нейронов (сколько классов, столько нейронов) + активация softmax\n",
    "    ])\n",
    "\n",
    "# Compile the model.\n",
    "    model.compile(\n",
    "    optimizer='adam',\n",
    "    loss='categorical_crossentropy',\n",
    "    metrics=['accuracy'],\n",
    "    )\n",
    "\n",
    "    y_t = to_categorical(train_labels)\n",
    "    y_tt = to_categorical(test_labels)\n",
    "\n",
    "    # Train the model.\n",
    "    history= model.fit(  \n",
    "      train_images[:,:],\n",
    "      y_t[:,:],\n",
    "      epochs=5,\n",
    "      batch_size=32, validation_split=0.2\n",
    "      )\n",
    "    \n",
    "    train_acc = history.history['accuracy'][-1]\n",
    "    val_acc = history.history['val_accuracy'][-1]\n",
    "\n",
    "    \n",
    "    df = df.append({'no. neurons': n_neurons, 'train accuracy': train_acc, 'val_accuracy': val_acc}, ignore_index=True)"
   ]
  },
  {
   "cell_type": "code",
   "execution_count": 285,
   "metadata": {},
   "outputs": [
    {
     "data": {
      "text/html": [
       "<div>\n",
       "<style scoped>\n",
       "    .dataframe tbody tr th:only-of-type {\n",
       "        vertical-align: middle;\n",
       "    }\n",
       "\n",
       "    .dataframe tbody tr th {\n",
       "        vertical-align: top;\n",
       "    }\n",
       "\n",
       "    .dataframe thead th {\n",
       "        text-align: right;\n",
       "    }\n",
       "</style>\n",
       "<table border=\"1\" class=\"dataframe\">\n",
       "  <thead>\n",
       "    <tr style=\"text-align: right;\">\n",
       "      <th></th>\n",
       "      <th>no. neurons</th>\n",
       "      <th>train accuracy</th>\n",
       "      <th>val_accuracy</th>\n",
       "    </tr>\n",
       "  </thead>\n",
       "  <tbody>\n",
       "    <tr>\n",
       "      <th>0</th>\n",
       "      <td>1.0</td>\n",
       "      <td>0.201708</td>\n",
       "      <td>0.202500</td>\n",
       "    </tr>\n",
       "    <tr>\n",
       "      <th>1</th>\n",
       "      <td>41.0</td>\n",
       "      <td>0.874896</td>\n",
       "      <td>0.861333</td>\n",
       "    </tr>\n",
       "    <tr>\n",
       "      <th>2</th>\n",
       "      <td>81.0</td>\n",
       "      <td>0.880021</td>\n",
       "      <td>0.867250</td>\n",
       "    </tr>\n",
       "    <tr>\n",
       "      <th>3</th>\n",
       "      <td>121.0</td>\n",
       "      <td>0.880021</td>\n",
       "      <td>0.865000</td>\n",
       "    </tr>\n",
       "    <tr>\n",
       "      <th>4</th>\n",
       "      <td>161.0</td>\n",
       "      <td>0.880229</td>\n",
       "      <td>0.865750</td>\n",
       "    </tr>\n",
       "    <tr>\n",
       "      <th>5</th>\n",
       "      <td>201.0</td>\n",
       "      <td>0.881292</td>\n",
       "      <td>0.865667</td>\n",
       "    </tr>\n",
       "    <tr>\n",
       "      <th>6</th>\n",
       "      <td>241.0</td>\n",
       "      <td>0.878937</td>\n",
       "      <td>0.865417</td>\n",
       "    </tr>\n",
       "    <tr>\n",
       "      <th>7</th>\n",
       "      <td>281.0</td>\n",
       "      <td>0.878646</td>\n",
       "      <td>0.854750</td>\n",
       "    </tr>\n",
       "    <tr>\n",
       "      <th>8</th>\n",
       "      <td>321.0</td>\n",
       "      <td>0.877729</td>\n",
       "      <td>0.850583</td>\n",
       "    </tr>\n",
       "    <tr>\n",
       "      <th>9</th>\n",
       "      <td>361.0</td>\n",
       "      <td>0.877062</td>\n",
       "      <td>0.861833</td>\n",
       "    </tr>\n",
       "    <tr>\n",
       "      <th>10</th>\n",
       "      <td>401.0</td>\n",
       "      <td>0.876667</td>\n",
       "      <td>0.861167</td>\n",
       "    </tr>\n",
       "    <tr>\n",
       "      <th>11</th>\n",
       "      <td>441.0</td>\n",
       "      <td>0.873833</td>\n",
       "      <td>0.873583</td>\n",
       "    </tr>\n",
       "    <tr>\n",
       "      <th>12</th>\n",
       "      <td>481.0</td>\n",
       "      <td>0.876167</td>\n",
       "      <td>0.867250</td>\n",
       "    </tr>\n",
       "  </tbody>\n",
       "</table>\n",
       "</div>"
      ],
      "text/plain": [
       "    no. neurons  train accuracy  val_accuracy\n",
       "0           1.0        0.201708      0.202500\n",
       "1          41.0        0.874896      0.861333\n",
       "2          81.0        0.880021      0.867250\n",
       "3         121.0        0.880021      0.865000\n",
       "4         161.0        0.880229      0.865750\n",
       "5         201.0        0.881292      0.865667\n",
       "6         241.0        0.878937      0.865417\n",
       "7         281.0        0.878646      0.854750\n",
       "8         321.0        0.877729      0.850583\n",
       "9         361.0        0.877062      0.861833\n",
       "10        401.0        0.876667      0.861167\n",
       "11        441.0        0.873833      0.873583\n",
       "12        481.0        0.876167      0.867250"
      ]
     },
     "execution_count": 285,
     "metadata": {},
     "output_type": "execute_result"
    }
   ],
   "source": [
    "df"
   ]
  },
  {
   "cell_type": "code",
   "execution_count": 286,
   "metadata": {},
   "outputs": [
    {
     "data": {
      "image/png": "[encoded data removed]",
      "text/plain": [
       "<Figure size 1080x504 with 1 Axes>"
      ]
     },
     "metadata": {
      "needs_background": "light"
     },
     "output_type": "display_data"
    }
   ],
   "source": [
    "plt.figure(figsize=(15,7))\n",
    "plt.plot(df['train accuracy'], df['no. neurons'], label='train')\n",
    "plt.plot(df['val_accuracy'], df['no. neurons'], label='val')\n",
    "plt.title('Зависимость accuracy от кол-ва нейронов')\n",
    "plt.xlabel('accuracy')\n",
    "plt.ylabel('кол-во эпох')\n",
    "plt.grid('On')\n",
    "plt.legend();"
   ]
  },
  {
   "cell_type": "markdown",
   "metadata": {},
   "source": [
    "**Вывод:\n",
    "    При увеличении количества нейронов показатель accuracy растет. \n",
    "    После кол-ва нейронов 161 показатель accuracy немного падает. Недостатоно данных для такого количства нейронов.**"
   ]
  },
  {
   "cell_type": "markdown",
   "metadata": {},
   "source": [
    "Посмотрим из чего она состоит:"
   ]
  },
  {
   "cell_type": "code",
   "execution_count": 287,
   "metadata": {
    "scrolled": true
   },
   "outputs": [
    {
     "name": "stdout",
     "output_type": "stream",
     "text": [
      "Model: \"sequential_146\"\n",
      "_________________________________________________________________\n",
      "Layer (type)                 Output Shape              Param #   \n",
      "=================================================================\n",
      "dense_366 (Dense)            (None, 481)               377585    \n",
      "_________________________________________________________________\n",
      "dense_367 (Dense)            (None, 10)                4820      \n",
      "=================================================================\n",
      "Total params: 382,405\n",
      "Trainable params: 382,405\n",
      "Non-trainable params: 0\n",
      "_________________________________________________________________\n"
     ]
    }
   ],
   "source": [
    "model.summary()"
   ]
  },
  {
   "cell_type": "markdown",
   "metadata": {},
   "source": [
    "Выводим картинку со схемой модели"
   ]
  },
  {
   "cell_type": "code",
   "execution_count": 288,
   "metadata": {},
   "outputs": [
    {
     "data": {
      "image/png": "[encoded data removed]",
      "text/plain": [
       "<Figure size 1080x360 with 5 Axes>"
      ]
     },
     "metadata": {
      "needs_background": "light"
     },
     "output_type": "display_data"
    }
   ],
   "source": [
    "N = 5\n",
    "y_pred = model.predict(test_images[:N,:])\n",
    "y_pred_class = np.argmax(y_pred,axis=1)\n",
    "plt.figure(figsize =(3*N,5))\n",
    "for i in range(N):\n",
    "  plt.subplot(1,N,i+1)\n",
    "  plt.imshow(test_images[i,:].reshape(28,28))\n",
    "  plt.xlabel(str(y_pred_class[i]))\n",
    "plt.show()  "
   ]
  },
  {
   "cell_type": "code",
   "execution_count": 289,
   "metadata": {},
   "outputs": [
    {
     "data": {
      "text/plain": [
       "array([9, 2, 1, 1, 6], dtype=int64)"
      ]
     },
     "execution_count": 289,
     "metadata": {},
     "output_type": "execute_result"
    }
   ],
   "source": [
    "y_pred_class"
   ]
  },
  {
   "cell_type": "markdown",
   "metadata": {},
   "source": [
    "## б. числа слоев (2, 3, 5, 10) при близких размерах сети (близкое число тренируемых парметров)."
   ]
  },
  {
   "cell_type": "code",
   "execution_count": 290,
   "metadata": {},
   "outputs": [],
   "source": [
    "df_1b = pd.DataFrame(columns=['no. layers', 'no. neurons', 'train accuracy', 'val_accuracy'])"
   ]
  },
  {
   "cell_type": "markdown",
   "metadata": {},
   "source": [
    "**2-x слойная модель, число нейронов: 64, 128, 192**"
   ]
  },
  {
   "cell_type": "code",
   "execution_count": 291,
   "metadata": {},
   "outputs": [
    {
     "name": "stdout",
     "output_type": "stream",
     "text": [
      "Epoch 1/5\n",
      "1500/1500 [==============================] - 4s 2ms/step - loss: 0.6269 - accuracy: 0.7814 - val_loss: 0.4200 - val_accuracy: 0.8464\n",
      "Epoch 2/5\n",
      "1500/1500 [==============================] - 3s 2ms/step - loss: 0.3990 - accuracy: 0.8550 - val_loss: 0.4021 - val_accuracy: 0.8528\n",
      "Epoch 3/5\n",
      "1500/1500 [==============================] - 3s 2ms/step - loss: 0.3737 - accuracy: 0.8669 - val_loss: 0.3978 - val_accuracy: 0.8567\n",
      "Epoch 4/5\n",
      "1500/1500 [==============================] - 3s 2ms/step - loss: 0.3452 - accuracy: 0.8739 - val_loss: 0.3758 - val_accuracy: 0.8683\n",
      "Epoch 5/5\n",
      "1500/1500 [==============================] - 3s 2ms/step - loss: 0.3273 - accuracy: 0.8802 - val_loss: 0.3912 - val_accuracy: 0.8574\n",
      "Epoch 1/5\n",
      "1500/1500 [==============================] - 5s 3ms/step - loss: 0.6124 - accuracy: 0.7835 - val_loss: 0.4008 - val_accuracy: 0.8552\n",
      "Epoch 2/5\n",
      "1500/1500 [==============================] - 4s 3ms/step - loss: 0.3893 - accuracy: 0.8593 - val_loss: 0.4045 - val_accuracy: 0.8518\n",
      "Epoch 3/5\n",
      "1500/1500 [==============================] - 4s 3ms/step - loss: 0.3624 - accuracy: 0.8672 - val_loss: 0.3758 - val_accuracy: 0.8604\n",
      "Epoch 4/5\n",
      "1500/1500 [==============================] - 4s 3ms/step - loss: 0.3361 - accuracy: 0.8783 - val_loss: 0.3688 - val_accuracy: 0.8672\n",
      "Epoch 5/5\n",
      "1500/1500 [==============================] - 4s 3ms/step - loss: 0.3301 - accuracy: 0.8794 - val_loss: 0.3636 - val_accuracy: 0.8675\n",
      "Epoch 1/5\n",
      "1500/1500 [==============================] - 5s 3ms/step - loss: 0.6002 - accuracy: 0.7859 - val_loss: 0.4647 - val_accuracy: 0.8308\n",
      "Epoch 2/5\n",
      "1500/1500 [==============================] - 4s 3ms/step - loss: 0.3991 - accuracy: 0.8552 - val_loss: 0.3883 - val_accuracy: 0.8600\n",
      "Epoch 3/5\n",
      "1500/1500 [==============================] - 4s 3ms/step - loss: 0.3622 - accuracy: 0.8682 - val_loss: 0.3753 - val_accuracy: 0.8618\n",
      "Epoch 4/5\n",
      "1500/1500 [==============================] - 4s 3ms/step - loss: 0.3425 - accuracy: 0.8747 - val_loss: 0.3559 - val_accuracy: 0.8712\n",
      "Epoch 5/5\n",
      "1500/1500 [==============================] - 4s 3ms/step - loss: 0.3305 - accuracy: 0.8801 - val_loss: 0.4046 - val_accuracy: 0.8521\n"
     ]
    }
   ],
   "source": [
    "for n_neurons in range(64, 193, 64):\n",
    "# Build the model.\n",
    "    model = Sequential([\n",
    "    Dense(n_neurons, activation='tanh', input_shape=(784,)),\n",
    "    Dense(10, activation='softmax'),# выходной слой из 10 нейронов (сколько классов, столько нейронов) + активация softmax\n",
    "    ])\n",
    "    \n",
    "    no_layers = 2\n",
    "\n",
    "# Compile the model.\n",
    "    model.compile(\n",
    "    optimizer='adam',\n",
    "    loss='categorical_crossentropy',\n",
    "    metrics=['accuracy'],\n",
    "    )\n",
    "\n",
    "    y_t = to_categorical(train_labels)\n",
    "    y_tt = to_categorical(test_labels)\n",
    "\n",
    "    # Train the model.\n",
    "    history= model.fit(  \n",
    "      train_images[:,:],\n",
    "      y_t[:,:],\n",
    "      epochs=5,\n",
    "      batch_size=32, validation_split=0.2\n",
    "      )\n",
    "    \n",
    "    train_acc_1b = history.history['accuracy'][-1]\n",
    "    val_acc_1b = history.history['val_accuracy'][-1]\n",
    "\n",
    "    \n",
    "    df_1b = df_1b.append({'no. layers': no_layers, 'no. neurons': n_neurons, 'train accuracy': train_acc_1b, 'val_accuracy': val_acc_1b}, ignore_index=True)\n",
    "    "
   ]
  },
  {
   "cell_type": "markdown",
   "metadata": {},
   "source": [
    "**3-x слойная модель, число нейронов: 64, 128, 192**"
   ]
  },
  {
   "cell_type": "code",
   "execution_count": 292,
   "metadata": {},
   "outputs": [
    {
     "name": "stdout",
     "output_type": "stream",
     "text": [
      "Epoch 1/5\n",
      "1500/1500 [==============================] - 4s 2ms/step - loss: 0.6366 - accuracy: 0.7799 - val_loss: 0.4175 - val_accuracy: 0.8488\n",
      "Epoch 2/5\n",
      "1500/1500 [==============================] - 3s 2ms/step - loss: 0.4007 - accuracy: 0.8558 - val_loss: 0.3995 - val_accuracy: 0.8563\n",
      "Epoch 3/5\n",
      "1500/1500 [==============================] - 3s 2ms/step - loss: 0.3680 - accuracy: 0.8674 - val_loss: 0.3931 - val_accuracy: 0.8573\n",
      "Epoch 4/5\n",
      "1500/1500 [==============================] - 3s 2ms/step - loss: 0.3566 - accuracy: 0.8692 - val_loss: 0.3821 - val_accuracy: 0.8618\n",
      "Epoch 5/5\n",
      "1500/1500 [==============================] - 3s 2ms/step - loss: 0.3373 - accuracy: 0.8769 - val_loss: 0.3701 - val_accuracy: 0.8663\n",
      "Epoch 1/5\n",
      "1500/1500 [==============================] - 5s 3ms/step - loss: 0.6086 - accuracy: 0.7817 - val_loss: 0.4274 - val_accuracy: 0.8408\n",
      "Epoch 2/5\n",
      "1500/1500 [==============================] - 4s 3ms/step - loss: 0.3993 - accuracy: 0.8534 - val_loss: 0.4215 - val_accuracy: 0.8474\n",
      "Epoch 3/5\n",
      "1500/1500 [==============================] - 4s 3ms/step - loss: 0.3600 - accuracy: 0.8685 - val_loss: 0.3868 - val_accuracy: 0.8597\n",
      "Epoch 4/5\n",
      "1500/1500 [==============================] - 4s 3ms/step - loss: 0.3393 - accuracy: 0.8757 - val_loss: 0.4009 - val_accuracy: 0.8528\n",
      "Epoch 5/5\n",
      "1500/1500 [==============================] - 4s 3ms/step - loss: 0.3273 - accuracy: 0.8782 - val_loss: 0.3683 - val_accuracy: 0.8683\n",
      "Epoch 1/5\n",
      "1500/1500 [==============================] - 6s 4ms/step - loss: 0.5977 - accuracy: 0.7810 - val_loss: 0.4232 - val_accuracy: 0.8409\n",
      "Epoch 2/5\n",
      "1500/1500 [==============================] - 6s 4ms/step - loss: 0.3881 - accuracy: 0.8574 - val_loss: 0.4137 - val_accuracy: 0.8497\n",
      "Epoch 3/5\n",
      "1500/1500 [==============================] - 6s 4ms/step - loss: 0.3713 - accuracy: 0.8634 - val_loss: 0.3712 - val_accuracy: 0.8647\n",
      "Epoch 4/5\n",
      "1500/1500 [==============================] - 6s 4ms/step - loss: 0.3471 - accuracy: 0.8720 - val_loss: 0.3747 - val_accuracy: 0.8623\n",
      "Epoch 5/5\n",
      "1500/1500 [==============================] - 6s 4ms/step - loss: 0.3286 - accuracy: 0.8782 - val_loss: 0.3673 - val_accuracy: 0.8702\n"
     ]
    }
   ],
   "source": [
    "for n_neurons in range(64, 193, 64):\n",
    "# Build the model.\n",
    "    model = Sequential([\n",
    "    Dense(n_neurons, activation='tanh', input_shape=(784,)),\n",
    "    Dense(n_neurons, activation='tanh'),   \n",
    "    Dense(10, activation='softmax'),# выходной слой из 10 нейронов (сколько классов, столько нейронов) + активация softmax\n",
    "    ])\n",
    "\n",
    "    no_layers = 3\n",
    "# Compile the model.\n",
    "    model.compile(\n",
    "    optimizer='adam',\n",
    "    loss='categorical_crossentropy',\n",
    "    metrics=['accuracy'],\n",
    "    )\n",
    "\n",
    "    y_t = to_categorical(train_labels)\n",
    "    y_tt = to_categorical(test_labels)\n",
    "\n",
    "    # Train the model.\n",
    "    history= model.fit(  \n",
    "      train_images[:,:],\n",
    "      y_t[:,:],\n",
    "      epochs=5,\n",
    "      batch_size=32, validation_split=0.2\n",
    "      )\n",
    "    \n",
    "    train_acc = history.history['accuracy'][-1]\n",
    "    val_acc = history.history['val_accuracy'][-1]\n",
    "\n",
    "    \n",
    "    df_1b = df_1b.append({'no. layers': no_layers, 'no. neurons': n_neurons, 'train accuracy': train_acc, 'val_accuracy': val_acc}, ignore_index=True)\n",
    "    "
   ]
  },
  {
   "cell_type": "markdown",
   "metadata": {},
   "source": [
    "**5-ти слойная модель, число нейронов: 64, 128, 192**"
   ]
  },
  {
   "cell_type": "code",
   "execution_count": 293,
   "metadata": {},
   "outputs": [
    {
     "name": "stdout",
     "output_type": "stream",
     "text": [
      "Epoch 1/5\n",
      "1500/1500 [==============================] - 5s 3ms/step - loss: 0.6453 - accuracy: 0.7748 - val_loss: 0.4682 - val_accuracy: 0.8357\n",
      "Epoch 2/5\n",
      "1500/1500 [==============================] - 4s 3ms/step - loss: 0.4164 - accuracy: 0.8500 - val_loss: 0.4178 - val_accuracy: 0.8459\n",
      "Epoch 3/5\n",
      "1500/1500 [==============================] - 4s 3ms/step - loss: 0.3919 - accuracy: 0.8588 - val_loss: 0.3982 - val_accuracy: 0.8534\n",
      "Epoch 4/5\n",
      "1500/1500 [==============================] - 4s 3ms/step - loss: 0.3667 - accuracy: 0.8657 - val_loss: 0.3892 - val_accuracy: 0.8616\n",
      "Epoch 5/5\n",
      "1500/1500 [==============================] - 4s 3ms/step - loss: 0.3531 - accuracy: 0.8689 - val_loss: 0.3613 - val_accuracy: 0.8654\n",
      "Epoch 1/5\n",
      "1500/1500 [==============================] - 6s 4ms/step - loss: 0.6209 - accuracy: 0.7756 - val_loss: 0.4762 - val_accuracy: 0.8264\n",
      "Epoch 2/5\n",
      "1500/1500 [==============================] - 6s 4ms/step - loss: 0.4129 - accuracy: 0.8488 - val_loss: 0.4470 - val_accuracy: 0.8345\n",
      "Epoch 3/5\n",
      "1500/1500 [==============================] - 6s 4ms/step - loss: 0.3823 - accuracy: 0.8600 - val_loss: 0.4078 - val_accuracy: 0.8523\n",
      "Epoch 4/5\n",
      "1500/1500 [==============================] - 6s 4ms/step - loss: 0.3690 - accuracy: 0.8631 - val_loss: 0.4152 - val_accuracy: 0.8488\n",
      "Epoch 5/5\n",
      "1500/1500 [==============================] - 6s 4ms/step - loss: 0.3487 - accuracy: 0.8716 - val_loss: 0.3765 - val_accuracy: 0.8648\n",
      "Epoch 1/5\n",
      "1500/1500 [==============================] - 8s 5ms/step - loss: 0.6284 - accuracy: 0.7707 - val_loss: 0.4544 - val_accuracy: 0.8348\n",
      "Epoch 2/5\n",
      "1500/1500 [==============================] - 7s 5ms/step - loss: 0.4248 - accuracy: 0.8446 - val_loss: 0.4531 - val_accuracy: 0.8307\n",
      "Epoch 3/5\n",
      "1500/1500 [==============================] - 7s 5ms/step - loss: 0.3889 - accuracy: 0.8584 - val_loss: 0.4208 - val_accuracy: 0.8480\n",
      "Epoch 4/5\n",
      "1500/1500 [==============================] - 7s 5ms/step - loss: 0.3685 - accuracy: 0.8652 - val_loss: 0.3754 - val_accuracy: 0.8631\n",
      "Epoch 5/5\n",
      "1500/1500 [==============================] - 7s 5ms/step - loss: 0.3519 - accuracy: 0.8720 - val_loss: 0.3950 - val_accuracy: 0.8563\n"
     ]
    }
   ],
   "source": [
    "for n_neurons in range(64, 193, 64):\n",
    "# Build the model.\n",
    "    model = Sequential([\n",
    "    Dense(n_neurons, activation='tanh', input_shape=(784,)),\n",
    "    Dense(n_neurons, activation='tanh'),  \n",
    "    Dense(n_neurons, activation='tanh'),    \n",
    "    Dense(n_neurons, activation='tanh'),   \n",
    "    Dense(10, activation='softmax'),# выходной слой из 10 нейронов (сколько классов, столько нейронов) + активация softmax\n",
    "    ])\n",
    "\n",
    "    no_layers = 5\n",
    "# Compile the model.\n",
    "    model.compile(\n",
    "    optimizer='adam',\n",
    "    loss='categorical_crossentropy',\n",
    "    metrics=['accuracy'],\n",
    "    )\n",
    "\n",
    "    y_t = to_categorical(train_labels)\n",
    "    y_tt = to_categorical(test_labels)\n",
    "\n",
    "    # Train the model.\n",
    "    history= model.fit(  \n",
    "      train_images[:,:],\n",
    "      y_t[:,:],\n",
    "      epochs=5,\n",
    "      batch_size=32, validation_split=0.2\n",
    "      )\n",
    "    \n",
    "    train_acc = history.history['accuracy'][-1]\n",
    "    val_acc = history.history['val_accuracy'][-1]\n",
    "\n",
    "    \n",
    "    df_1b = df_1b.append({'no. layers': no_layers, 'no. neurons': n_neurons, 'train accuracy': train_acc, 'val_accuracy': val_acc}, ignore_index=True)\n",
    "    "
   ]
  },
  {
   "cell_type": "markdown",
   "metadata": {},
   "source": [
    "**10-ти слойная модель, число нейронов: 64, 128, 192**"
   ]
  },
  {
   "cell_type": "code",
   "execution_count": 294,
   "metadata": {},
   "outputs": [
    {
     "name": "stdout",
     "output_type": "stream",
     "text": [
      "Epoch 1/5\n",
      "1500/1500 [==============================] - 6s 3ms/step - loss: 0.7126 - accuracy: 0.7509 - val_loss: 0.4613 - val_accuracy: 0.8340\n",
      "Epoch 2/5\n",
      "1500/1500 [==============================] - 5s 3ms/step - loss: 0.4611 - accuracy: 0.8350 - val_loss: 0.4721 - val_accuracy: 0.8206\n",
      "Epoch 3/5\n",
      "1500/1500 [==============================] - 5s 3ms/step - loss: 0.4209 - accuracy: 0.8475 - val_loss: 0.4425 - val_accuracy: 0.8401\n",
      "Epoch 4/5\n",
      "1500/1500 [==============================] - 5s 3ms/step - loss: 0.4098 - accuracy: 0.8525 - val_loss: 0.4047 - val_accuracy: 0.8548\n",
      "Epoch 5/5\n",
      "1500/1500 [==============================] - 5s 3ms/step - loss: 0.3832 - accuracy: 0.8636 - val_loss: 0.4072 - val_accuracy: 0.8583\n",
      "Epoch 1/5\n",
      "1500/1500 [==============================] - 9s 6ms/step - loss: 0.6864 - accuracy: 0.7545 - val_loss: 0.5640 - val_accuracy: 0.8037\n",
      "Epoch 2/5\n",
      "1500/1500 [==============================] - 8s 5ms/step - loss: 0.4912 - accuracy: 0.8270 - val_loss: 0.4932 - val_accuracy: 0.8279\n",
      "Epoch 3/5\n",
      "1500/1500 [==============================] - 8s 5ms/step - loss: 0.4541 - accuracy: 0.8411 - val_loss: 0.4400 - val_accuracy: 0.8389\n",
      "Epoch 4/5\n",
      "1500/1500 [==============================] - 9s 6ms/step - loss: 0.4338 - accuracy: 0.8442 - val_loss: 0.4447 - val_accuracy: 0.8335\n",
      "Epoch 5/5\n",
      "1500/1500 [==============================] - 8s 5ms/step - loss: 0.4336 - accuracy: 0.8439 - val_loss: 0.4432 - val_accuracy: 0.8472\n",
      "Epoch 1/5\n",
      "1500/1500 [==============================] - 13s 8ms/step - loss: 0.7270 - accuracy: 0.7410 - val_loss: 0.6301 - val_accuracy: 0.7818\n",
      "Epoch 2/5\n",
      "1500/1500 [==============================] - 12s 8ms/step - loss: 0.5377 - accuracy: 0.8110 - val_loss: 0.5328 - val_accuracy: 0.8068\n",
      "Epoch 3/5\n",
      "1500/1500 [==============================] - 12s 8ms/step - loss: 0.5017 - accuracy: 0.8265 - val_loss: 0.5223 - val_accuracy: 0.8121\n",
      "Epoch 4/5\n",
      "1500/1500 [==============================] - 12s 8ms/step - loss: 0.4746 - accuracy: 0.8328 - val_loss: 0.4887 - val_accuracy: 0.8262\n",
      "Epoch 5/5\n",
      "1500/1500 [==============================] - 12s 8ms/step - loss: 0.4689 - accuracy: 0.8355 - val_loss: 0.4813 - val_accuracy: 0.8333\n"
     ]
    }
   ],
   "source": [
    "for n_neurons in range(64, 193, 64):\n",
    "# Build the model.\n",
    "    model = Sequential([\n",
    "    Dense(n_neurons, activation='tanh', input_shape=(784,)),\n",
    "    Dense(n_neurons, activation='tanh'),  \n",
    "    Dense(n_neurons, activation='tanh'),    \n",
    "    Dense(n_neurons, activation='tanh'),   \n",
    "    Dense(n_neurons, activation='tanh'),      \n",
    "    Dense(n_neurons, activation='tanh'),     \n",
    "    Dense(n_neurons, activation='tanh'),      \n",
    "    Dense(n_neurons, activation='tanh'),      \n",
    "    Dense(n_neurons, activation='tanh'),      \n",
    "    Dense(10, activation='softmax'),# выходной слой из 10 нейронов (сколько классов, столько нейронов) + активация softmax\n",
    "    ])\n",
    "\n",
    "    no_layers = 10\n",
    "# Compile the model.\n",
    "    model.compile(\n",
    "    optimizer='adam',\n",
    "    loss='categorical_crossentropy',\n",
    "    metrics=['accuracy'],\n",
    "    )\n",
    "\n",
    "    y_t = to_categorical(train_labels)\n",
    "    y_tt = to_categorical(test_labels)\n",
    "\n",
    "    # Train the model.\n",
    "    history= model.fit(  \n",
    "      train_images[:,:],\n",
    "      y_t[:,:],\n",
    "      epochs=5,\n",
    "      batch_size=32, validation_split=0.2\n",
    "      )\n",
    "    \n",
    "    train_acc = history.history['accuracy'][-1]\n",
    "    val_acc = history.history['val_accuracy'][-1]\n",
    "\n",
    "    \n",
    "    df_1b = df_1b.append({'no. layers': no_layers, 'no. neurons': n_neurons, 'train accuracy': train_acc, 'val_accuracy': val_acc}, ignore_index=True)"
   ]
  },
  {
   "cell_type": "code",
   "execution_count": 295,
   "metadata": {},
   "outputs": [
    {
     "data": {
      "text/html": [
       "<div>\n",
       "<style scoped>\n",
       "    .dataframe tbody tr th:only-of-type {\n",
       "        vertical-align: middle;\n",
       "    }\n",
       "\n",
       "    .dataframe tbody tr th {\n",
       "        vertical-align: top;\n",
       "    }\n",
       "\n",
       "    .dataframe thead th {\n",
       "        text-align: right;\n",
       "    }\n",
       "</style>\n",
       "<table border=\"1\" class=\"dataframe\">\n",
       "  <thead>\n",
       "    <tr style=\"text-align: right;\">\n",
       "      <th></th>\n",
       "      <th>no. layers</th>\n",
       "      <th>no. neurons</th>\n",
       "      <th>train accuracy</th>\n",
       "      <th>val_accuracy</th>\n",
       "    </tr>\n",
       "  </thead>\n",
       "  <tbody>\n",
       "    <tr>\n",
       "      <th>0</th>\n",
       "      <td>2.0</td>\n",
       "      <td>64.0</td>\n",
       "      <td>0.879667</td>\n",
       "      <td>0.857417</td>\n",
       "    </tr>\n",
       "    <tr>\n",
       "      <th>1</th>\n",
       "      <td>2.0</td>\n",
       "      <td>128.0</td>\n",
       "      <td>0.880625</td>\n",
       "      <td>0.867500</td>\n",
       "    </tr>\n",
       "    <tr>\n",
       "      <th>2</th>\n",
       "      <td>2.0</td>\n",
       "      <td>192.0</td>\n",
       "      <td>0.880875</td>\n",
       "      <td>0.852083</td>\n",
       "    </tr>\n",
       "    <tr>\n",
       "      <th>3</th>\n",
       "      <td>3.0</td>\n",
       "      <td>64.0</td>\n",
       "      <td>0.876500</td>\n",
       "      <td>0.866333</td>\n",
       "    </tr>\n",
       "    <tr>\n",
       "      <th>4</th>\n",
       "      <td>3.0</td>\n",
       "      <td>128.0</td>\n",
       "      <td>0.876562</td>\n",
       "      <td>0.868250</td>\n",
       "    </tr>\n",
       "    <tr>\n",
       "      <th>5</th>\n",
       "      <td>3.0</td>\n",
       "      <td>192.0</td>\n",
       "      <td>0.878896</td>\n",
       "      <td>0.870167</td>\n",
       "    </tr>\n",
       "    <tr>\n",
       "      <th>6</th>\n",
       "      <td>5.0</td>\n",
       "      <td>64.0</td>\n",
       "      <td>0.870104</td>\n",
       "      <td>0.865417</td>\n",
       "    </tr>\n",
       "    <tr>\n",
       "      <th>7</th>\n",
       "      <td>5.0</td>\n",
       "      <td>128.0</td>\n",
       "      <td>0.871333</td>\n",
       "      <td>0.864750</td>\n",
       "    </tr>\n",
       "    <tr>\n",
       "      <th>8</th>\n",
       "      <td>5.0</td>\n",
       "      <td>192.0</td>\n",
       "      <td>0.870771</td>\n",
       "      <td>0.856333</td>\n",
       "    </tr>\n",
       "    <tr>\n",
       "      <th>9</th>\n",
       "      <td>10.0</td>\n",
       "      <td>64.0</td>\n",
       "      <td>0.860667</td>\n",
       "      <td>0.858333</td>\n",
       "    </tr>\n",
       "    <tr>\n",
       "      <th>10</th>\n",
       "      <td>10.0</td>\n",
       "      <td>128.0</td>\n",
       "      <td>0.844417</td>\n",
       "      <td>0.847250</td>\n",
       "    </tr>\n",
       "    <tr>\n",
       "      <th>11</th>\n",
       "      <td>10.0</td>\n",
       "      <td>192.0</td>\n",
       "      <td>0.835104</td>\n",
       "      <td>0.833333</td>\n",
       "    </tr>\n",
       "  </tbody>\n",
       "</table>\n",
       "</div>"
      ],
      "text/plain": [
       "    no. layers  no. neurons  train accuracy  val_accuracy\n",
       "0          2.0         64.0        0.879667      0.857417\n",
       "1          2.0        128.0        0.880625      0.867500\n",
       "2          2.0        192.0        0.880875      0.852083\n",
       "3          3.0         64.0        0.876500      0.866333\n",
       "4          3.0        128.0        0.876562      0.868250\n",
       "5          3.0        192.0        0.878896      0.870167\n",
       "6          5.0         64.0        0.870104      0.865417\n",
       "7          5.0        128.0        0.871333      0.864750\n",
       "8          5.0        192.0        0.870771      0.856333\n",
       "9         10.0         64.0        0.860667      0.858333\n",
       "10        10.0        128.0        0.844417      0.847250\n",
       "11        10.0        192.0        0.835104      0.833333"
      ]
     },
     "execution_count": 295,
     "metadata": {},
     "output_type": "execute_result"
    }
   ],
   "source": [
    "df_1b"
   ]
  },
  {
   "cell_type": "code",
   "execution_count": 296,
   "metadata": {},
   "outputs": [
    {
     "data": {
      "image/png": "[encoded data removed]",
      "text/plain": [
       "<Figure size 1008x432 with 1 Axes>"
      ]
     },
     "metadata": {
      "needs_background": "light"
     },
     "output_type": "display_data"
    }
   ],
   "source": [
    "plt.figure(figsize=(14,6)) \n",
    "plt.plot(df_1b['no. layers'], df_1b['train accuracy'], label='train accuracy')\n",
    "plt.plot(df_1b['no. layers'], df_1b['val_accuracy'], label='val_accuracy')\n",
    "plt.xticks(rotation=45)\n",
    "plt.legend();"
   ]
  },
  {
   "cell_type": "markdown",
   "metadata": {},
   "source": [
    "**Вывод: Оптимальная настройка: 3 слоя/128 нейронов. дальнейшее увеличение слоев к улушению accuracy не привели.**"
   ]
  },
  {
   "cell_type": "markdown",
   "metadata": {},
   "source": [
    "## 2. Проверьте работу разных оптимизаторов (SGD, Adam, RMSProp) для одной из моделей п.1.Фиксируйте для тренировочного и тестового набора метрики accuracy."
   ]
  },
  {
   "cell_type": "code",
   "execution_count": 297,
   "metadata": {},
   "outputs": [],
   "source": [
    "df_2 = pd.DataFrame(columns=['optimizer', 'train accuracy', 'val_accuracy'])"
   ]
  },
  {
   "cell_type": "code",
   "execution_count": 298,
   "metadata": {},
   "outputs": [
    {
     "name": "stdout",
     "output_type": "stream",
     "text": [
      "Epoch 1/5\n",
      "1500/1500 [==============================] - 5s 3ms/step - loss: 0.6085 - accuracy: 0.7818 - val_loss: 0.4298 - val_accuracy: 0.8422\n",
      "Epoch 2/5\n",
      "1500/1500 [==============================] - 4s 3ms/step - loss: 0.3981 - accuracy: 0.8550 - val_loss: 0.3894 - val_accuracy: 0.8566\n",
      "Epoch 3/5\n",
      "1500/1500 [==============================] - 4s 3ms/step - loss: 0.3671 - accuracy: 0.8644 - val_loss: 0.3684 - val_accuracy: 0.8677\n",
      "Epoch 4/5\n",
      "1500/1500 [==============================] - 4s 3ms/step - loss: 0.3433 - accuracy: 0.8718 - val_loss: 0.3626 - val_accuracy: 0.8676\n",
      "Epoch 5/5\n",
      "1500/1500 [==============================] - 5s 3ms/step - loss: 0.3242 - accuracy: 0.8801 - val_loss: 0.3657 - val_accuracy: 0.8687\n"
     ]
    }
   ],
   "source": [
    "model = Sequential([\n",
    "    Dense(128, activation='tanh', input_shape=(784,)),\n",
    "    Dense(128, activation='tanh'),   \n",
    "    Dense(10, activation='softmax'),# выходной слой из 10 нейронов (сколько классов, столько нейронов) + активация softmax\n",
    "])\n",
    "\n",
    "# Compile the model.\n",
    "model.compile(\n",
    "    optimizer='adam',\n",
    "    loss='categorical_crossentropy',\n",
    "    metrics=['accuracy'],\n",
    ")\n",
    "\n",
    "y_t = to_categorical(train_labels)\n",
    "y_tt = to_categorical(test_labels)\n",
    "\n",
    "    # Train the model.\n",
    "history= model.fit(  \n",
    "    train_images[:,:],\n",
    "    y_t[:,:],\n",
    "    epochs=5,\n",
    "    batch_size=32, validation_split=0.2\n",
    ")\n",
    "    \n",
    "train_acc = history.history['accuracy'][-1]\n",
    "val_acc = history.history['val_accuracy'][-1]\n",
    "    \n",
    "df_2 = df_2.append({'optimizer': 'adam', 'train accuracy': train_acc, 'val_accuracy': val_acc}, ignore_index=True)\n",
    "    "
   ]
  },
  {
   "cell_type": "code",
   "execution_count": 299,
   "metadata": {},
   "outputs": [
    {
     "name": "stdout",
     "output_type": "stream",
     "text": [
      "Epoch 1/5\n",
      "1500/1500 [==============================] - 5s 3ms/step - loss: 0.8487 - accuracy: 0.7255 - val_loss: 0.5056 - val_accuracy: 0.8169\n",
      "Epoch 2/5\n",
      "1500/1500 [==============================] - 4s 3ms/step - loss: 0.4659 - accuracy: 0.8368 - val_loss: 0.4430 - val_accuracy: 0.8425\n",
      "Epoch 3/5\n",
      "1500/1500 [==============================] - 4s 3ms/step - loss: 0.4163 - accuracy: 0.8534 - val_loss: 0.4117 - val_accuracy: 0.8537\n",
      "Epoch 4/5\n",
      "1500/1500 [==============================] - 4s 3ms/step - loss: 0.3904 - accuracy: 0.8599 - val_loss: 0.3902 - val_accuracy: 0.8607\n",
      "Epoch 5/5\n",
      "1500/1500 [==============================] - 4s 3ms/step - loss: 0.3698 - accuracy: 0.8679 - val_loss: 0.3821 - val_accuracy: 0.8618\n"
     ]
    }
   ],
   "source": [
    "model = Sequential([\n",
    "    Dense(128, activation='tanh', input_shape=(784,)),\n",
    "    Dense(128, activation='tanh'),   \n",
    "    Dense(10, activation='softmax'),# выходной слой из 10 нейронов (сколько классов, столько нейронов) + активация softmax\n",
    "])\n",
    "\n",
    "# Compile the model.\n",
    "model.compile(\n",
    "    optimizer='SGD',\n",
    "    loss='categorical_crossentropy',\n",
    "    metrics=['accuracy'],\n",
    ")\n",
    "\n",
    "y_t = to_categorical(train_labels)\n",
    "y_tt = to_categorical(test_labels)\n",
    "\n",
    "    # Train the model.\n",
    "history= model.fit(  \n",
    "    train_images[:,:],\n",
    "    y_t[:,:],\n",
    "    epochs=5,\n",
    "    batch_size=32, validation_split=0.2\n",
    ")\n",
    "    \n",
    "train_acc = history.history['accuracy'][-1]\n",
    "val_acc = history.history['val_accuracy'][-1]\n",
    "    \n",
    "df_2 = df_2.append({'optimizer': 'SGD', 'train accuracy': train_acc, 'val_accuracy': val_acc}, ignore_index=True)"
   ]
  },
  {
   "cell_type": "code",
   "execution_count": 300,
   "metadata": {},
   "outputs": [
    {
     "name": "stdout",
     "output_type": "stream",
     "text": [
      "Epoch 1/5\n",
      "1500/1500 [==============================] - 6s 4ms/step - loss: 0.6335 - accuracy: 0.7687 - val_loss: 0.4320 - val_accuracy: 0.8355\n",
      "Epoch 2/5\n",
      "1500/1500 [==============================] - 5s 3ms/step - loss: 0.3969 - accuracy: 0.8524 - val_loss: 0.3905 - val_accuracy: 0.8581\n",
      "Epoch 3/5\n",
      "1500/1500 [==============================] - 5s 3ms/step - loss: 0.3562 - accuracy: 0.8679 - val_loss: 0.3664 - val_accuracy: 0.8683\n",
      "Epoch 4/5\n",
      "1500/1500 [==============================] - 5s 4ms/step - loss: 0.3324 - accuracy: 0.8764 - val_loss: 0.3563 - val_accuracy: 0.8731\n",
      "Epoch 5/5\n",
      "1500/1500 [==============================] - 5s 3ms/step - loss: 0.3118 - accuracy: 0.8854 - val_loss: 0.3687 - val_accuracy: 0.8672\n"
     ]
    }
   ],
   "source": [
    "my_model = Sequential([\n",
    "    Dense(128, activation='tanh', input_shape=(784,)),\n",
    "    Dense(128, activation='tanh'),   \n",
    "    Dense(10, activation='softmax'),# выходной слой из 10 нейронов (сколько классов, столько нейронов) + активация softmax\n",
    "])\n",
    "\n",
    "# Compile the model.\n",
    "my_model.compile(\n",
    "    optimizer='RMSProp',\n",
    "    loss='categorical_crossentropy',\n",
    "    metrics=['accuracy'],\n",
    ")\n",
    "\n",
    "y_t = to_categorical(train_labels)\n",
    "y_tt = to_categorical(test_labels)\n",
    "\n",
    "    # Train the model.\n",
    "history= my_model.fit(  \n",
    "    train_images[:,:],\n",
    "    y_t[:,:],\n",
    "    epochs=5,\n",
    "    batch_size=32, validation_split=0.2\n",
    ")\n",
    "    \n",
    "train_acc = history.history['accuracy'][-1]\n",
    "val_acc = history.history['val_accuracy'][-1]\n",
    "    \n",
    "df_2 = df_2.append({'optimizer': 'RMSProp', 'train accuracy': train_acc, 'val_accuracy': val_acc}, ignore_index=True)"
   ]
  },
  {
   "cell_type": "code",
   "execution_count": 301,
   "metadata": {},
   "outputs": [
    {
     "data": {
      "text/html": [
       "<div>\n",
       "<style scoped>\n",
       "    .dataframe tbody tr th:only-of-type {\n",
       "        vertical-align: middle;\n",
       "    }\n",
       "\n",
       "    .dataframe tbody tr th {\n",
       "        vertical-align: top;\n",
       "    }\n",
       "\n",
       "    .dataframe thead th {\n",
       "        text-align: right;\n",
       "    }\n",
       "</style>\n",
       "<table border=\"1\" class=\"dataframe\">\n",
       "  <thead>\n",
       "    <tr style=\"text-align: right;\">\n",
       "      <th></th>\n",
       "      <th>optimizer</th>\n",
       "      <th>train accuracy</th>\n",
       "      <th>val_accuracy</th>\n",
       "    </tr>\n",
       "  </thead>\n",
       "  <tbody>\n",
       "    <tr>\n",
       "      <th>0</th>\n",
       "      <td>adam</td>\n",
       "      <td>0.878875</td>\n",
       "      <td>0.868750</td>\n",
       "    </tr>\n",
       "    <tr>\n",
       "      <th>1</th>\n",
       "      <td>SGD</td>\n",
       "      <td>0.869875</td>\n",
       "      <td>0.861833</td>\n",
       "    </tr>\n",
       "    <tr>\n",
       "      <th>2</th>\n",
       "      <td>RMSProp</td>\n",
       "      <td>0.883042</td>\n",
       "      <td>0.867167</td>\n",
       "    </tr>\n",
       "  </tbody>\n",
       "</table>\n",
       "</div>"
      ],
      "text/plain": [
       "  optimizer  train accuracy  val_accuracy\n",
       "0      adam        0.878875      0.868750\n",
       "1       SGD        0.869875      0.861833\n",
       "2   RMSProp        0.883042      0.867167"
      ]
     },
     "execution_count": 301,
     "metadata": {},
     "output_type": "execute_result"
    }
   ],
   "source": [
    "df_2"
   ]
  },
  {
   "cell_type": "code",
   "execution_count": 302,
   "metadata": {},
   "outputs": [
    {
     "data": {
      "image/png": "[encoded data removed]",
      "text/plain": [
       "<Figure size 1008x432 with 1 Axes>"
      ]
     },
     "metadata": {
      "needs_background": "light"
     },
     "output_type": "display_data"
    }
   ],
   "source": [
    "plt.figure(figsize=(14,6)) \n",
    "plt.plot(df_2['optimizer'], df_2['train accuracy'], label='train accuracy')\n",
    "plt.plot(df_2['optimizer'], df_2['val_accuracy'], label='val_accuracy')\n",
    "plt.xticks(rotation=45)\n",
    "plt.legend();"
   ]
  },
  {
   "cell_type": "markdown",
   "metadata": {},
   "source": [
    "**Вывод: Хуже себя показал оптимизатор SGD. \n",
    "         Небольшая разница между accuracy val и accuracy train на оптимизаторе adam говорит о возможном            переобучении.\n",
    "         Поэтому выбираю оптимизатор RMSProp.**\n",
    "         \n",
    "    "
   ]
  },
  {
   "cell_type": "markdown",
   "metadata": {},
   "source": [
    "## 4. Для одного варианта сетей сформируйте матрицу ошибок по классам."
   ]
  },
  {
   "cell_type": "code",
   "execution_count": 303,
   "metadata": {},
   "outputs": [],
   "source": [
    "y_pred = my_model.predict(test_images)\n",
    "y_pred_class = np.argmax(y_pred, axis=1)"
   ]
  },
  {
   "cell_type": "code",
   "execution_count": 304,
   "metadata": {},
   "outputs": [],
   "source": [
    "def plot_confusion_matrix(cm, classes,\n",
    "                          normalize=False,\n",
    "                          title='Confusion matrix',\n",
    "                          cmap=plt.cm.Blues):\n",
    "    \"\"\"\n",
    "    This function prints and plots the confusion matrix.\n",
    "    Normalization can be applied by setting `normalize=True`.\n",
    "    \"\"\"\n",
    "    plt.imshow(cm, interpolation='nearest', cmap=cmap)\n",
    "    plt.title(title)\n",
    "    plt.colorbar()\n",
    "    tick_marks = np.arange(len(classes))\n",
    "    plt.xticks(tick_marks, classes, rotation=45)\n",
    "    plt.yticks(tick_marks, classes)\n",
    "\n",
    "    if normalize:\n",
    "        cm = cm.astype('float') / cm.sum(axis=1)[:, np.newaxis]\n",
    "        print(\"Normalized confusion matrix\")\n",
    "    else:\n",
    "        print('Confusion matrix, without normalization')\n",
    "\n",
    "    #print(cm)\n",
    "\n",
    "    thresh = cm.max() / 2.\n",
    "    for i, j in itertools.product(range(cm.shape[0]), range(cm.shape[1])):\n",
    "        plt.text(j, i, cm[i, j],\n",
    "                 horizontalalignment=\"center\",\n",
    "                 color=\"white\" if cm[i, j] > thresh else \"black\")\n",
    "\n",
    "    plt.tight_layout()\n",
    "    plt.ylabel('True label')\n",
    "    plt.xlabel('Predicted label')"
   ]
  },
  {
   "cell_type": "code",
   "execution_count": 305,
   "metadata": {},
   "outputs": [
    {
     "name": "stdout",
     "output_type": "stream",
     "text": [
      "Confusion matrix, without normalization\n"
     ]
    },
    {
     "data": {
      "image/png": "[encoded data removed]",
      "text/plain": [
       "<Figure size 720x576 with 2 Axes>"
      ]
     },
     "metadata": {
      "needs_background": "light"
     },
     "output_type": "display_data"
    }
   ],
   "source": [
    "cnf_matrix = confusion_matrix(test_labels, y_pred_class)\n",
    "plt.figure(figsize=(10, 8))\n",
    "plot_confusion_matrix(cnf_matrix, classes=['0', '1', '2', '3', '4', '5', '6', '7', '8', '9'],\n",
    "                      title='Confusion matrix', normalize=False)\n",
    "plt.show()"
   ]
  },
  {
   "cell_type": "code",
   "execution_count": 306,
   "metadata": {},
   "outputs": [],
   "source": [
    "def get_precision_and_recall_from_confusion_matrix(label, cnf_matrix):\n",
    "    str_sum = 0\n",
    "    col_sum = 0\n",
    "    for i in range(len(cnf_matrix)):\n",
    "        str_sum += cnf_matrix[label][i]\n",
    "        col_sum += cnf_matrix[i][label]\n",
    "        \n",
    "    return cnf_matrix[label][label] / str_sum, cnf_matrix[label][label] / col_sum"
   ]
  },
  {
   "cell_type": "code",
   "execution_count": 307,
   "metadata": {},
   "outputs": [
    {
     "data": {
      "text/html": [
       "<div>\n",
       "<style scoped>\n",
       "    .dataframe tbody tr th:only-of-type {\n",
       "        vertical-align: middle;\n",
       "    }\n",
       "\n",
       "    .dataframe tbody tr th {\n",
       "        vertical-align: top;\n",
       "    }\n",
       "\n",
       "    .dataframe thead th {\n",
       "        text-align: right;\n",
       "    }\n",
       "</style>\n",
       "<table border=\"1\" class=\"dataframe\">\n",
       "  <thead>\n",
       "    <tr style=\"text-align: right;\">\n",
       "      <th></th>\n",
       "      <th>label</th>\n",
       "      <th>precision</th>\n",
       "      <th>recall</th>\n",
       "    </tr>\n",
       "  </thead>\n",
       "  <tbody>\n",
       "    <tr>\n",
       "      <th>7</th>\n",
       "      <td>7</td>\n",
       "      <td>0.962</td>\n",
       "      <td>0.885005</td>\n",
       "    </tr>\n",
       "    <tr>\n",
       "      <th>8</th>\n",
       "      <td>8</td>\n",
       "      <td>0.962</td>\n",
       "      <td>0.974671</td>\n",
       "    </tr>\n",
       "    <tr>\n",
       "      <th>1</th>\n",
       "      <td>1</td>\n",
       "      <td>0.946</td>\n",
       "      <td>0.994742</td>\n",
       "    </tr>\n",
       "    <tr>\n",
       "      <th>5</th>\n",
       "      <td>5</td>\n",
       "      <td>0.936</td>\n",
       "      <td>0.935065</td>\n",
       "    </tr>\n",
       "    <tr>\n",
       "      <th>9</th>\n",
       "      <td>9</td>\n",
       "      <td>0.905</td>\n",
       "      <td>0.974166</td>\n",
       "    </tr>\n",
       "    <tr>\n",
       "      <th>3</th>\n",
       "      <td>3</td>\n",
       "      <td>0.878</td>\n",
       "      <td>0.849952</td>\n",
       "    </tr>\n",
       "    <tr>\n",
       "      <th>2</th>\n",
       "      <td>2</td>\n",
       "      <td>0.799</td>\n",
       "      <td>0.746032</td>\n",
       "    </tr>\n",
       "    <tr>\n",
       "      <th>6</th>\n",
       "      <td>6</td>\n",
       "      <td>0.774</td>\n",
       "      <td>0.597222</td>\n",
       "    </tr>\n",
       "    <tr>\n",
       "      <th>4</th>\n",
       "      <td>4</td>\n",
       "      <td>0.751</td>\n",
       "      <td>0.803209</td>\n",
       "    </tr>\n",
       "    <tr>\n",
       "      <th>0</th>\n",
       "      <td>0</td>\n",
       "      <td>0.651</td>\n",
       "      <td>0.916901</td>\n",
       "    </tr>\n",
       "  </tbody>\n",
       "</table>\n",
       "</div>"
      ],
      "text/plain": [
       "   label  precision    recall\n",
       "7      7      0.962  0.885005\n",
       "8      8      0.962  0.974671\n",
       "1      1      0.946  0.994742\n",
       "5      5      0.936  0.935065\n",
       "9      9      0.905  0.974166\n",
       "3      3      0.878  0.849952\n",
       "2      2      0.799  0.746032\n",
       "6      6      0.774  0.597222\n",
       "4      4      0.751  0.803209\n",
       "0      0      0.651  0.916901"
      ]
     },
     "execution_count": 307,
     "metadata": {},
     "output_type": "execute_result"
    }
   ],
   "source": [
    "pr_rc_result = pd.DataFrame()\n",
    "precisions = []\n",
    "recalls = []\n",
    "labels = [0, 1, 2, 3, 4, 5, 6, 7, 8, 9]\n",
    "for l in labels:\n",
    "    p_r = get_precision_and_recall_from_confusion_matrix(l, cnf_matrix)\n",
    "    precisions.append(p_r[0])\n",
    "    recalls.append(p_r[1])\n",
    "pr_rc_result['label'] = labels\n",
    "pr_rc_result['precision'] = precisions\n",
    "pr_rc_result['recall'] = recalls\n",
    "\n",
    "pr_rc_result.sort_values(by='precision', ascending=False)"
   ]
  },
  {
   "cell_type": "code",
   "execution_count": 308,
   "metadata": {},
   "outputs": [
    {
     "data": {
      "text/html": [
       "<div>\n",
       "<style scoped>\n",
       "    .dataframe tbody tr th:only-of-type {\n",
       "        vertical-align: middle;\n",
       "    }\n",
       "\n",
       "    .dataframe tbody tr th {\n",
       "        vertical-align: top;\n",
       "    }\n",
       "\n",
       "    .dataframe thead th {\n",
       "        text-align: right;\n",
       "    }\n",
       "</style>\n",
       "<table border=\"1\" class=\"dataframe\">\n",
       "  <thead>\n",
       "    <tr style=\"text-align: right;\">\n",
       "      <th></th>\n",
       "      <th>label</th>\n",
       "      <th>precision</th>\n",
       "      <th>recall</th>\n",
       "    </tr>\n",
       "  </thead>\n",
       "  <tbody>\n",
       "    <tr>\n",
       "      <th>1</th>\n",
       "      <td>1</td>\n",
       "      <td>0.946</td>\n",
       "      <td>0.994742</td>\n",
       "    </tr>\n",
       "    <tr>\n",
       "      <th>8</th>\n",
       "      <td>8</td>\n",
       "      <td>0.962</td>\n",
       "      <td>0.974671</td>\n",
       "    </tr>\n",
       "    <tr>\n",
       "      <th>9</th>\n",
       "      <td>9</td>\n",
       "      <td>0.905</td>\n",
       "      <td>0.974166</td>\n",
       "    </tr>\n",
       "    <tr>\n",
       "      <th>5</th>\n",
       "      <td>5</td>\n",
       "      <td>0.936</td>\n",
       "      <td>0.935065</td>\n",
       "    </tr>\n",
       "    <tr>\n",
       "      <th>0</th>\n",
       "      <td>0</td>\n",
       "      <td>0.651</td>\n",
       "      <td>0.916901</td>\n",
       "    </tr>\n",
       "    <tr>\n",
       "      <th>7</th>\n",
       "      <td>7</td>\n",
       "      <td>0.962</td>\n",
       "      <td>0.885005</td>\n",
       "    </tr>\n",
       "    <tr>\n",
       "      <th>3</th>\n",
       "      <td>3</td>\n",
       "      <td>0.878</td>\n",
       "      <td>0.849952</td>\n",
       "    </tr>\n",
       "    <tr>\n",
       "      <th>4</th>\n",
       "      <td>4</td>\n",
       "      <td>0.751</td>\n",
       "      <td>0.803209</td>\n",
       "    </tr>\n",
       "    <tr>\n",
       "      <th>2</th>\n",
       "      <td>2</td>\n",
       "      <td>0.799</td>\n",
       "      <td>0.746032</td>\n",
       "    </tr>\n",
       "    <tr>\n",
       "      <th>6</th>\n",
       "      <td>6</td>\n",
       "      <td>0.774</td>\n",
       "      <td>0.597222</td>\n",
       "    </tr>\n",
       "  </tbody>\n",
       "</table>\n",
       "</div>"
      ],
      "text/plain": [
       "   label  precision    recall\n",
       "1      1      0.946  0.994742\n",
       "8      8      0.962  0.974671\n",
       "9      9      0.905  0.974166\n",
       "5      5      0.936  0.935065\n",
       "0      0      0.651  0.916901\n",
       "7      7      0.962  0.885005\n",
       "3      3      0.878  0.849952\n",
       "4      4      0.751  0.803209\n",
       "2      2      0.799  0.746032\n",
       "6      6      0.774  0.597222"
      ]
     },
     "execution_count": 308,
     "metadata": {},
     "output_type": "execute_result"
    }
   ],
   "source": [
    "pr_rc_result.sort_values(by='recall', ascending=False)"
   ]
  },
  {
   "cell_type": "code",
   "execution_count": null,
   "metadata": {},
   "outputs": [],
   "source": []
  }
 ],
 "metadata": {
  "kernelspec": {
   "display_name": "Python 3",
   "language": "python",
   "name": "python3"
  },
  "language_info": {
   "codemirror_mode": {
    "name": "ipython",
    "version": 3
   },
   "file_extension": ".py",
   "mimetype": "text/x-python",
   "name": "python",
   "nbconvert_exporter": "python",
   "pygments_lexer": "ipython3",
   "version": "3.8.3"
  }
 },
 "nbformat": 4,
 "nbformat_minor": 4
}
